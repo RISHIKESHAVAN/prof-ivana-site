{
 "cells": [
  {
   "cell_type": "markdown",
   "metadata": {},
   "source": [
    "# Talks markdown generator for academicpages\n",
    "\n",
    "Takes a TSV of talks with metadata and converts them for use with [academicpages.github.io](academicpages.github.io). This is an interactive Jupyter notebook ([see more info here](http://jupyter-notebook-beginner-guide.readthedocs.io/en/latest/what_is_jupyter.html)). The core python code is also in `talks.py`. Run either from the `markdown_generator` folder after replacing `talks.tsv` with one containing your data.\n",
    "\n",
    "TODO: Make this work with BibTex and other databases, rather than Stuart's non-standard TSV format and citation style."
   ]
  },
  {
   "cell_type": "code",
   "execution_count": 19,
   "metadata": {},
   "outputs": [],
   "source": [
    "import pandas as pd\n",
    "import os"
   ]
  },
  {
   "cell_type": "markdown",
   "metadata": {},
   "source": [
    "## Data format\n",
    "\n",
    "The TSV needs to have the following columns: title, type, url_slug, venue, date, location, talk_url, description, with a header at the top. Many of these fields can be blank, but the columns must be in the TSV.\n",
    "\n",
    "- Fields that cannot be blank: `title`, `url_slug`, `date`. All else can be blank. `type` defaults to \"Talk\" \n",
    "- `date` must be formatted as YYYY-MM-DD.\n",
    "- `url_slug` will be the descriptive part of the .md file and the permalink URL for the page about the paper. \n",
    "    - The .md file will be `YYYY-MM-DD-[url_slug].md` and the permalink will be `https://[yourdomain]/talks/YYYY-MM-DD-[url_slug]`\n",
    "    - The combination of `url_slug` and `date` must be unique, as it will be the basis for your filenames\n",
    "\n",
    "This is how the raw file looks (it doesn't look pretty, use a spreadsheet or other program to edit and create)."
   ]
  },
  {
   "cell_type": "code",
   "execution_count": 20,
   "metadata": {
    "scrolled": true
   },
   "outputs": [
    {
     "name": "stdout",
     "output_type": "stream",
     "text": [
      "category\tdate\ttitle\tvenue\tlocation\ttalk_url\tvenue_url\tdescription\r\n",
      "Plenary/Keynote Talk\t2021-07-20\tMixed Integer Bilevel Optimization\tSIAM Conference on Optimization (OP21)\t\thttps://meetings.siam.org/sess/dsp_programsess.cfm?SESSIONCODE=72554\thttps://www.siam.org/conferences/cm/program/invited-presentations/op21-invited-presentations\t\r\n",
      "Plenary/Keynote Talk\t2021-02-25\tPanel Discussion Real-World Optimisation Models: Successes and Pitfalls\tBeale Lecture, The OR Society\t\thttps://youtu.be/jBQCOSKL1ho?t=1780\thttps://www.theorsociety.com/events/beale-lecture/\t\r\n",
      "Plenary/Keynote Talk\t2021-02-12\tNew integer and Bilevel Formulations for the k-Vertex Cut Problem\t5th AIRO Young Workshop\t\thttps://www.youtube.com/watch?v=LXjE8PWxaPQ&feature=youtu.be\thttp://opslab.dieti.unina.it/index.php/en/laboratory?id=59\t\r\n",
      "Plenary/Keynote Talk\t2020-05-18\tCasting Light on the Hidden Bilevel Structure of the Capacitated Vertex Separator Problem\tMixed Integer Programming Workshop 2020 Online Edition (MIP2020)\t\thttps://www.youtube.com/watch?v=dl9KW0CnQ74\thttps://sites.google.com/view/mipworkshop2020/program?authuser=0\t\r\n",
      "Plenary/Keynote Talk\t2019-06-23\tFrom Game Theory to Graph Theory: A Bilevel Journey\tEURO 2019: 30th European Conference on Operational Research\tUCD, Dublin, Ireland\tslides/EURO2019_Ljubić.pdf\thttps://www.euro2019dublin.com/tutorial-speakers\t\r\n",
      "Plenary/Keynote Talk\t2019-01-30\tSolving Very Large Scale Covering Location Problems using Branch-and-Benders-Cut\tIX International Workshop on Locational Analysis and Related Problems 2019\tCádiz, Spain\tslides/IWOLOCA2019_Ljubić.pdf\thttp://redloca.ulpgc.es/redloca18.html\t\r\n",
      "Plenary/Keynote Talk\t2018-09-12\tFrom Game Theory to Graph Theory: A Bilevel Journey\tOR 2018: International Conference on Operations Research\tBrussels, Belgium\thttps://www.or2018.be/slides/Ljubić.pdf\thttps://www.or2018.be/welcome/index\t\r\n",
      "Plenary/Keynote Talk\t2018-06-18\tBranch-and-Cut Algorithms for Mixed-Integer Bilevel Linear Programs\t2nd International Workshop on Bilevel Programming\tInria Lille-Nord Europe, Lille, France\t\thttps://iwobip2.sciencesconf.org/\t\r\n",
      "Plenary/Keynote Talk\t2018-06-18\tRecent Developments on Exact Solvers for the (Prize-Collecting) Steiner Tree Problem\t22nd Belgian Mathematical Programming Workshop\tLa-Roche-en-Ardennes, Belgium\tslides/COMEX_Ljubić_Full.pdf\thttp://comex.ulb.ac.be/?page_id=103\t"
     ]
    }
   ],
   "source": [
    "!cat plenarykeynote.tsv"
   ]
  },
  {
   "cell_type": "markdown",
   "metadata": {},
   "source": [
    "## Import TSV\n",
    "\n",
    "Pandas makes this easy with the read_csv function. We are using a TSV, so we specify the separator as a tab, or `\\t`.\n",
    "\n",
    "I found it important to put this data in a tab-separated values format, because there are a lot of commas in this kind of data and comma-separated values can get messed up. However, you can modify the import statement, as pandas also has read_excel(), read_json(), and others."
   ]
  },
  {
   "cell_type": "code",
   "execution_count": 21,
   "metadata": {
    "scrolled": true
   },
   "outputs": [
    {
     "data": {
      "text/html": [
       "<div>\n",
       "<style scoped>\n",
       "    .dataframe tbody tr th:only-of-type {\n",
       "        vertical-align: middle;\n",
       "    }\n",
       "\n",
       "    .dataframe tbody tr th {\n",
       "        vertical-align: top;\n",
       "    }\n",
       "\n",
       "    .dataframe thead th {\n",
       "        text-align: right;\n",
       "    }\n",
       "</style>\n",
       "<table border=\"1\" class=\"dataframe\">\n",
       "  <thead>\n",
       "    <tr style=\"text-align: right;\">\n",
       "      <th></th>\n",
       "      <th>category</th>\n",
       "      <th>date</th>\n",
       "      <th>title</th>\n",
       "      <th>venue</th>\n",
       "      <th>location</th>\n",
       "      <th>talk_url</th>\n",
       "      <th>venue_url</th>\n",
       "      <th>description</th>\n",
       "    </tr>\n",
       "  </thead>\n",
       "  <tbody>\n",
       "    <tr>\n",
       "      <th>0</th>\n",
       "      <td>Plenary/Keynote Talk</td>\n",
       "      <td>2021-07-20</td>\n",
       "      <td>Mixed Integer Bilevel Optimization</td>\n",
       "      <td>SIAM Conference on Optimization (OP21)</td>\n",
       "      <td>NaN</td>\n",
       "      <td>https://meetings.siam.org/sess/dsp_programsess...</td>\n",
       "      <td>https://www.siam.org/conferences/cm/program/in...</td>\n",
       "      <td>NaN</td>\n",
       "    </tr>\n",
       "    <tr>\n",
       "      <th>1</th>\n",
       "      <td>Plenary/Keynote Talk</td>\n",
       "      <td>2021-02-25</td>\n",
       "      <td>Panel Discussion Real-World Optimisation Model...</td>\n",
       "      <td>Beale Lecture, The OR Society</td>\n",
       "      <td>NaN</td>\n",
       "      <td>https://youtu.be/jBQCOSKL1ho?t=1780</td>\n",
       "      <td>https://www.theorsociety.com/events/beale-lect...</td>\n",
       "      <td>NaN</td>\n",
       "    </tr>\n",
       "    <tr>\n",
       "      <th>2</th>\n",
       "      <td>Plenary/Keynote Talk</td>\n",
       "      <td>2021-02-12</td>\n",
       "      <td>New integer and Bilevel Formulations for the k...</td>\n",
       "      <td>5th AIRO Young Workshop</td>\n",
       "      <td>NaN</td>\n",
       "      <td>https://www.youtube.com/watch?v=LXjE8PWxaPQ&amp;fe...</td>\n",
       "      <td>http://opslab.dieti.unina.it/index.php/en/labo...</td>\n",
       "      <td>NaN</td>\n",
       "    </tr>\n",
       "    <tr>\n",
       "      <th>3</th>\n",
       "      <td>Plenary/Keynote Talk</td>\n",
       "      <td>2020-05-18</td>\n",
       "      <td>Casting Light on the Hidden Bilevel Structure ...</td>\n",
       "      <td>Mixed Integer Programming Workshop 2020 Online...</td>\n",
       "      <td>NaN</td>\n",
       "      <td>https://www.youtube.com/watch?v=dl9KW0CnQ74</td>\n",
       "      <td>https://sites.google.com/view/mipworkshop2020/...</td>\n",
       "      <td>NaN</td>\n",
       "    </tr>\n",
       "    <tr>\n",
       "      <th>4</th>\n",
       "      <td>Plenary/Keynote Talk</td>\n",
       "      <td>2019-06-23</td>\n",
       "      <td>From Game Theory to Graph Theory: A Bilevel Jo...</td>\n",
       "      <td>EURO 2019: 30th European Conference on Operati...</td>\n",
       "      <td>UCD, Dublin, Ireland</td>\n",
       "      <td>slides/EURO2019_Ljubić.pdf</td>\n",
       "      <td>https://www.euro2019dublin.com/tutorial-speakers</td>\n",
       "      <td>NaN</td>\n",
       "    </tr>\n",
       "    <tr>\n",
       "      <th>5</th>\n",
       "      <td>Plenary/Keynote Talk</td>\n",
       "      <td>2019-01-30</td>\n",
       "      <td>Solving Very Large Scale Covering Location Pro...</td>\n",
       "      <td>IX International Workshop on Locational Analys...</td>\n",
       "      <td>Cádiz, Spain</td>\n",
       "      <td>slides/IWOLOCA2019_Ljubić.pdf</td>\n",
       "      <td>http://redloca.ulpgc.es/redloca18.html</td>\n",
       "      <td>NaN</td>\n",
       "    </tr>\n",
       "    <tr>\n",
       "      <th>6</th>\n",
       "      <td>Plenary/Keynote Talk</td>\n",
       "      <td>2018-09-12</td>\n",
       "      <td>From Game Theory to Graph Theory: A Bilevel Jo...</td>\n",
       "      <td>OR 2018: International Conference on Operation...</td>\n",
       "      <td>Brussels, Belgium</td>\n",
       "      <td>https://www.or2018.be/slides/Ljubić.pdf</td>\n",
       "      <td>https://www.or2018.be/welcome/index</td>\n",
       "      <td>NaN</td>\n",
       "    </tr>\n",
       "    <tr>\n",
       "      <th>7</th>\n",
       "      <td>Plenary/Keynote Talk</td>\n",
       "      <td>2018-06-18</td>\n",
       "      <td>Branch-and-Cut Algorithms for Mixed-Integer Bi...</td>\n",
       "      <td>2nd International Workshop on Bilevel Programming</td>\n",
       "      <td>Inria Lille-Nord Europe, Lille, France</td>\n",
       "      <td>NaN</td>\n",
       "      <td>https://iwobip2.sciencesconf.org/</td>\n",
       "      <td>NaN</td>\n",
       "    </tr>\n",
       "    <tr>\n",
       "      <th>8</th>\n",
       "      <td>Plenary/Keynote Talk</td>\n",
       "      <td>2018-06-18</td>\n",
       "      <td>Recent Developments on Exact Solvers for the (...</td>\n",
       "      <td>22nd Belgian Mathematical Programming Workshop</td>\n",
       "      <td>La-Roche-en-Ardennes, Belgium</td>\n",
       "      <td>slides/COMEX_Ljubić_Full.pdf</td>\n",
       "      <td>http://comex.ulb.ac.be/?page_id=103</td>\n",
       "      <td>NaN</td>\n",
       "    </tr>\n",
       "  </tbody>\n",
       "</table>\n",
       "</div>"
      ],
      "text/plain": [
       "               category        date  \\\n",
       "0  Plenary/Keynote Talk  2021-07-20   \n",
       "1  Plenary/Keynote Talk  2021-02-25   \n",
       "2  Plenary/Keynote Talk  2021-02-12   \n",
       "3  Plenary/Keynote Talk  2020-05-18   \n",
       "4  Plenary/Keynote Talk  2019-06-23   \n",
       "5  Plenary/Keynote Talk  2019-01-30   \n",
       "6  Plenary/Keynote Talk  2018-09-12   \n",
       "7  Plenary/Keynote Talk  2018-06-18   \n",
       "8  Plenary/Keynote Talk  2018-06-18   \n",
       "\n",
       "                                               title  \\\n",
       "0                 Mixed Integer Bilevel Optimization   \n",
       "1  Panel Discussion Real-World Optimisation Model...   \n",
       "2  New integer and Bilevel Formulations for the k...   \n",
       "3  Casting Light on the Hidden Bilevel Structure ...   \n",
       "4  From Game Theory to Graph Theory: A Bilevel Jo...   \n",
       "5  Solving Very Large Scale Covering Location Pro...   \n",
       "6  From Game Theory to Graph Theory: A Bilevel Jo...   \n",
       "7  Branch-and-Cut Algorithms for Mixed-Integer Bi...   \n",
       "8  Recent Developments on Exact Solvers for the (...   \n",
       "\n",
       "                                               venue  \\\n",
       "0             SIAM Conference on Optimization (OP21)   \n",
       "1                      Beale Lecture, The OR Society   \n",
       "2                            5th AIRO Young Workshop   \n",
       "3  Mixed Integer Programming Workshop 2020 Online...   \n",
       "4  EURO 2019: 30th European Conference on Operati...   \n",
       "5  IX International Workshop on Locational Analys...   \n",
       "6  OR 2018: International Conference on Operation...   \n",
       "7  2nd International Workshop on Bilevel Programming   \n",
       "8     22nd Belgian Mathematical Programming Workshop   \n",
       "\n",
       "                                 location  \\\n",
       "0                                     NaN   \n",
       "1                                     NaN   \n",
       "2                                     NaN   \n",
       "3                                     NaN   \n",
       "4                    UCD, Dublin, Ireland   \n",
       "5                            Cádiz, Spain   \n",
       "6                       Brussels, Belgium   \n",
       "7  Inria Lille-Nord Europe, Lille, France   \n",
       "8           La-Roche-en-Ardennes, Belgium   \n",
       "\n",
       "                                            talk_url  \\\n",
       "0  https://meetings.siam.org/sess/dsp_programsess...   \n",
       "1                https://youtu.be/jBQCOSKL1ho?t=1780   \n",
       "2  https://www.youtube.com/watch?v=LXjE8PWxaPQ&fe...   \n",
       "3        https://www.youtube.com/watch?v=dl9KW0CnQ74   \n",
       "4                         slides/EURO2019_Ljubić.pdf   \n",
       "5                      slides/IWOLOCA2019_Ljubić.pdf   \n",
       "6            https://www.or2018.be/slides/Ljubić.pdf   \n",
       "7                                                NaN   \n",
       "8                       slides/COMEX_Ljubić_Full.pdf   \n",
       "\n",
       "                                           venue_url  description  \n",
       "0  https://www.siam.org/conferences/cm/program/in...          NaN  \n",
       "1  https://www.theorsociety.com/events/beale-lect...          NaN  \n",
       "2  http://opslab.dieti.unina.it/index.php/en/labo...          NaN  \n",
       "3  https://sites.google.com/view/mipworkshop2020/...          NaN  \n",
       "4   https://www.euro2019dublin.com/tutorial-speakers          NaN  \n",
       "5             http://redloca.ulpgc.es/redloca18.html          NaN  \n",
       "6                https://www.or2018.be/welcome/index          NaN  \n",
       "7                  https://iwobip2.sciencesconf.org/          NaN  \n",
       "8                http://comex.ulb.ac.be/?page_id=103          NaN  "
      ]
     },
     "execution_count": 21,
     "metadata": {},
     "output_type": "execute_result"
    }
   ],
   "source": [
    "talks = pd.read_csv(\"plenarykeynote.tsv\", sep=\"\\t\", header=0)\n",
    "talks"
   ]
  },
  {
   "cell_type": "markdown",
   "metadata": {},
   "source": [
    "## Escape special characters\n",
    "\n",
    "YAML is very picky about how it takes a valid string, so we are replacing single and double quotes (and ampersands) with their HTML encoded equivilents. This makes them look not so readable in raw format, but they are parsed and rendered nicely."
   ]
  },
  {
   "cell_type": "code",
   "execution_count": 22,
   "metadata": {},
   "outputs": [],
   "source": [
    "html_escape_table = {\n",
    "    \"&\": \"&amp;\",\n",
    "    '\"': \"&quot;\",\n",
    "    \"'\": \"&apos;\"\n",
    "    }\n",
    "\n",
    "def html_escape(text):\n",
    "    if type(text) is str:\n",
    "        return \"\".join(html_escape_table.get(c,c) for c in text)\n",
    "    else:\n",
    "        return \"False\""
   ]
  },
  {
   "cell_type": "markdown",
   "metadata": {},
   "source": [
    "## Creating the markdown files\n",
    "\n",
    "This is where the heavy lifting is done. This loops through all the rows in the TSV dataframe, then starts to concatentate a big string (```md```) that contains the markdown for each type. It does the YAML metadata first, then does the description for the individual page."
   ]
  },
  {
   "cell_type": "code",
   "execution_count": 23,
   "metadata": {},
   "outputs": [],
   "source": [
    "loc_dict = {}\n",
    "\n",
    "for row, item in talks.iterrows():\n",
    "    url_slug = '-'.join([i for i in item.title.lower().split()])\n",
    "    \n",
    "    md_filename = str(item.date) + \"-\" + url_slug + \".md\"\n",
    "    html_filename = str(item.date) + \"-\" + url_slug \n",
    "    year = item.date[:4]\n",
    "    \n",
    "    md = \"---\\ntitle: \\\"\"   + item.title + '\"\\n'\n",
    "    md += \"collection: talks\" + \"\\n\"\n",
    "    \n",
    "    if len(str(item.category)) > 3:\n",
    "        md += 'category: \"' + item.category + '\"\\n'\n",
    "    else:\n",
    "        md += 'category: \"Talk\"\\n'\n",
    "    \n",
    "    md += 'type: \"plenarykeynote\"\\n'\n",
    "    md += \"permalink: /talks/\" + html_filename + \"\\n\"\n",
    "    \n",
    "    if len(str(item.venue)) > 3:\n",
    "        md += 'venue: \"' + item.venue + '\"\\n'\n",
    "        \n",
    "    if len(str(item.location)) > 3:\n",
    "        md += \"date: \" + str(item.date) + \"\\n\"\n",
    "    \n",
    "    if len(str(item.location)) > 3:\n",
    "        md += 'location: \"' + str(item.location) + '\"\\n'\n",
    "           \n",
    "    md += \"---\\n\"\n",
    "    \n",
    "    if len(str(item.venue)) > 3:\n",
    "        if len(str(item.venue_url)) > 3:\n",
    "            md += \"\\nThis talk was part of [\" + item.venue + \"](\" + item.venue_url + \")\" \n",
    "        else:\n",
    "            md += \"\\nThis talk was part of \" + item.venue\n",
    "\n",
    "        if len(str(item.talk_url)) > 3:\n",
    "            if 'slides' in str(item.talk_url):\n",
    "                md += \" and more information can be found [here]({{site.url}}/docs/\" + item.talk_url + \")\\n\" \n",
    "            else:\n",
    "                md += \" and more information can be found [here](\" + item.talk_url + \")\\n\" \n",
    "        else:\n",
    "            md += \".\"\n",
    "    else:\n",
    "        if len(str(item.talk_url)) > 3:\n",
    "            md += \"\\nMore information can be found [here](\" + item.talk_url + \")\\n\" \n",
    "        \n",
    "    \n",
    "    if len(str(item.description)) > 3:\n",
    "        md += \"\\n\" + html_escape(item.description) + \"\\n\"\n",
    "        \n",
    "        \n",
    "    md_filename = os.path.basename(md_filename)\n",
    "    #print(md)\n",
    "    \n",
    "    with open(\"../_talks/\" + md_filename, 'w') as f:\n",
    "        f.write(md)"
   ]
  },
  {
   "cell_type": "markdown",
   "metadata": {},
   "source": [
    "These files are in the talks directory, one directory below where we're working from."
   ]
  },
  {
   "cell_type": "code",
   "execution_count": 24,
   "metadata": {},
   "outputs": [
    {
     "name": "stdout",
     "output_type": "stream",
     "text": [
      "2018-06-18-branch-and-cut-algorithms-for-mixed-integer-bilevel-linear-programs.md\r\n",
      "2018-06-18-recent-developments-on-exact-solvers-for-the-(prize-collecting)-steiner-tree-problem.md\r\n",
      "2018-09-12-from-game-theory-to-graph-theory:-a-bilevel-journey.md\r\n",
      "2019-01-30-solving-very-large-scale-covering-location-problems-using-branch-and-benders-cut.md\r\n",
      "2019-06-23-from-game-theory-to-graph-theory:-a-bilevel-journey.md\r\n",
      "2020-05-18-casting-light-on-the-hidden-bilevel-structure-of-the-capacitated-vertex-separator-problem.md\r\n",
      "2021-02-12-new-integer-and-bilevel-formulations-for-the-k-vertex-cut-problem.md\r\n",
      "2021-02-25-panel-discussion-real-world-optimisation-models:-successes-and-pitfalls.md\r\n",
      "2021-07-20-mixed-integer-bilevel-optimization.md\r\n"
     ]
    }
   ],
   "source": [
    "!ls ../_talks"
   ]
  },
  {
   "cell_type": "code",
   "execution_count": 15,
   "metadata": {},
   "outputs": [
    {
     "name": "stdout",
     "output_type": "stream",
     "text": [
      "---\r\n",
      "title: \"Mixed Integer Bilevel Optimization\"\r\n",
      "collection: talks\r\n",
      "type: \"Talk\"\r\n",
      "permalink: /talks/2012-03-01-mixed-integer-bilevel-optimization\r\n",
      "venue: \"SIAM Conference on Optimization (OP21)\"\r\n",
      "---\r\n",
      "This talk was part of [SIAM Conference on Optimization (OP21)](https://www.siam.org/conferences/cm/program/invited-presentations/op21-invited-presentations) and more information can be found [here](https://meetings.siam.org/sess/dsp_programsess.cfm?SESSIONCODE=72554)\r\n"
     ]
    }
   ],
   "source": [
    "!cat ../_talks/2012-03-01-mixed-integer-bilevel-optimization.md"
   ]
  },
  {
   "cell_type": "code",
   "execution_count": null,
   "metadata": {},
   "outputs": [],
   "source": []
  }
 ],
 "metadata": {
  "kernelspec": {
   "display_name": "Python 3 (ipykernel)",
   "language": "python",
   "name": "python3"
  },
  "language_info": {
   "codemirror_mode": {
    "name": "ipython",
    "version": 3
   },
   "file_extension": ".py",
   "mimetype": "text/x-python",
   "name": "python",
   "nbconvert_exporter": "python",
   "pygments_lexer": "ipython3",
   "version": "3.8.8"
  }
 },
 "nbformat": 4,
 "nbformat_minor": 1
}
