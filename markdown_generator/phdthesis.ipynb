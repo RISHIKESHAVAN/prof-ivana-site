{
 "cells": [
  {
   "cell_type": "markdown",
   "metadata": {},
   "source": [
    "# Publications markdown generator for academicpages\n",
    "\n",
    "Takes a TSV of publications with metadata and converts them for use with [academicpages.github.io](academicpages.github.io). This is an interactive Jupyter notebook ([see more info here](http://jupyter-notebook-beginner-guide.readthedocs.io/en/latest/what_is_jupyter.html)). The core python code is also in `publications.py`. Run either from the `markdown_generator` folder after replacing `publications.tsv` with one containing your data.\n",
    "\n",
    "TODO: Make this work with BibTex and other databases of citations, rather than Stuart's non-standard TSV format and citation style.\n"
   ]
  },
  {
   "cell_type": "markdown",
   "metadata": {},
   "source": [
    "## Data format\n",
    "\n",
    "The TSV needs to have the following columns: pub_date, title, venue, excerpt, citation, site_url, and paper_url, with a header at the top. \n",
    "\n",
    "- `excerpt` and `paper_url` can be blank, but the others must have values. \n",
    "- `pub_date` must be formatted as YYYY-MM-DD.\n",
    "- `url_slug` will be the descriptive part of the .md file and the permalink URL for the page about the paper. The .md file will be `YYYY-MM-DD-[url_slug].md` and the permalink will be `https://[yourdomain]/publications/YYYY-MM-DD-[url_slug]`\n",
    "\n",
    "This is how the raw file looks (it doesn't look pretty, use a spreadsheet or other program to edit and create)."
   ]
  },
  {
   "cell_type": "code",
   "execution_count": 1,
   "metadata": {},
   "outputs": [
    {
     "name": "stdout",
     "output_type": "stream",
     "text": [
      "pub_date\ttitle\tvenue\tauthor\texcerpt\tcitation\tpaper_url\tdownload_url\r\n",
      "2004-11-01\tExact and Memetic Algorithms for Two Network Design Problems\tFaculty of Computer Science, Vienna University of Technology\tIvana Ljubic\t\t\t\tpublications/ljubicPhD.pdf"
     ]
    }
   ],
   "source": [
    "!cat phdthesis.tsv"
   ]
  },
  {
   "cell_type": "markdown",
   "metadata": {},
   "source": [
    "## Import pandas\n",
    "\n",
    "We are using the very handy pandas library for dataframes."
   ]
  },
  {
   "cell_type": "code",
   "execution_count": 2,
   "metadata": {},
   "outputs": [],
   "source": [
    "import pandas as pd"
   ]
  },
  {
   "cell_type": "markdown",
   "metadata": {},
   "source": [
    "## Import TSV\n",
    "\n",
    "Pandas makes this easy with the read_csv function. We are using a TSV, so we specify the separator as a tab, or `\\t`.\n",
    "\n",
    "I found it important to put this data in a tab-separated values format, because there are a lot of commas in this kind of data and comma-separated values can get messed up. However, you can modify the import statement, as pandas also has read_excel(), read_json(), and others."
   ]
  },
  {
   "cell_type": "code",
   "execution_count": 3,
   "metadata": {},
   "outputs": [
    {
     "data": {
      "text/html": [
       "<div>\n",
       "<style scoped>\n",
       "    .dataframe tbody tr th:only-of-type {\n",
       "        vertical-align: middle;\n",
       "    }\n",
       "\n",
       "    .dataframe tbody tr th {\n",
       "        vertical-align: top;\n",
       "    }\n",
       "\n",
       "    .dataframe thead th {\n",
       "        text-align: right;\n",
       "    }\n",
       "</style>\n",
       "<table border=\"1\" class=\"dataframe\">\n",
       "  <thead>\n",
       "    <tr style=\"text-align: right;\">\n",
       "      <th></th>\n",
       "      <th>pub_date</th>\n",
       "      <th>title</th>\n",
       "      <th>venue</th>\n",
       "      <th>author</th>\n",
       "      <th>excerpt</th>\n",
       "      <th>citation</th>\n",
       "      <th>paper_url</th>\n",
       "      <th>download_url</th>\n",
       "    </tr>\n",
       "  </thead>\n",
       "  <tbody>\n",
       "    <tr>\n",
       "      <th>0</th>\n",
       "      <td>2004-11-01</td>\n",
       "      <td>Exact and Memetic Algorithms for Two Network D...</td>\n",
       "      <td>Faculty of Computer Science, Vienna University...</td>\n",
       "      <td>Ivana Ljubic</td>\n",
       "      <td>NaN</td>\n",
       "      <td>NaN</td>\n",
       "      <td>NaN</td>\n",
       "      <td>publications/ljubicPhD.pdf</td>\n",
       "    </tr>\n",
       "  </tbody>\n",
       "</table>\n",
       "</div>"
      ],
      "text/plain": [
       "     pub_date                                              title  \\\n",
       "0  2004-11-01  Exact and Memetic Algorithms for Two Network D...   \n",
       "\n",
       "                                               venue        author  excerpt  \\\n",
       "0  Faculty of Computer Science, Vienna University...  Ivana Ljubic      NaN   \n",
       "\n",
       "   citation  paper_url                download_url  \n",
       "0       NaN        NaN  publications/ljubicPhD.pdf  "
      ]
     },
     "execution_count": 3,
     "metadata": {},
     "output_type": "execute_result"
    }
   ],
   "source": [
    "publications = pd.read_csv(\"phdthesis.tsv\", sep=\"\\t\", header=0)\n",
    "publications.head()\n"
   ]
  },
  {
   "cell_type": "markdown",
   "metadata": {},
   "source": [
    "## Escape special characters\n",
    "\n",
    "YAML is very picky about how it takes a valid string, so we are replacing single and double quotes (and ampersands) with their HTML encoded equivilents. This makes them look not so readable in raw format, but they are parsed and rendered nicely."
   ]
  },
  {
   "cell_type": "code",
   "execution_count": 4,
   "metadata": {},
   "outputs": [],
   "source": [
    "html_escape_table = {\n",
    "    \"&\": \"&amp;\",\n",
    "    '\"': \"&quot;\",\n",
    "    \"'\": \"&apos;\"\n",
    "    }\n",
    "\n",
    "def html_escape(text):\n",
    "    \"\"\"Produce entities within text.\"\"\"\n",
    "    return \"\".join(html_escape_table.get(c,c) for c in text)"
   ]
  },
  {
   "cell_type": "markdown",
   "metadata": {},
   "source": [
    "## Creating the markdown files\n",
    "\n",
    "This is where the heavy lifting is done. This loops through all the rows in the TSV dataframe, then starts to concatentate a big string (```md```) that contains the markdown for each type. It does the YAML metadata first, then does the description for the individual page."
   ]
  },
  {
   "cell_type": "code",
   "execution_count": 5,
   "metadata": {},
   "outputs": [
    {
     "data": {
      "text/plain": [
       "'a-b'"
      ]
     },
     "execution_count": 5,
     "metadata": {},
     "output_type": "execute_result"
    }
   ],
   "source": [
    "\n",
    "'-'.join([i for i in 'A b'.lower().split()])"
   ]
  },
  {
   "cell_type": "code",
   "execution_count": 7,
   "metadata": {},
   "outputs": [],
   "source": [
    "import os\n",
    "for row, item in publications.iterrows():\n",
    "    \n",
    "#     > add url_slug creation here\n",
    "#     > the download url could contain pdf location of full url\n",
    "    \n",
    "    url_slug = '-'.join([i for i in item.title.lower().split()])\n",
    "    \n",
    "    md_filename = str(item.pub_date) + \"-\" + url_slug + \".md\"\n",
    "    html_filename = str(item.pub_date) + \"-\" + url_slug\n",
    "    year = item.pub_date[:4]\n",
    "    \n",
    "    ## YAML variables\n",
    "    \n",
    "    md = \"---\\ntitle: \\\"\"   + item.title + '\"\\n'\n",
    "    \n",
    "    md += \"\"\"collection: publications\"\"\"\n",
    "    \n",
    "    md += \"\"\"\\ntype: phdthesis\"\"\"\n",
    "    \n",
    "    md += \"\\nauthor: '\" + html_escape(item.author) + \"'\"\n",
    "    \n",
    "    md += \"\"\"\\npermalink: /publication/\"\"\" + html_filename\n",
    "    \n",
    "    if len(str(item.excerpt)) > 5:\n",
    "        md += \"\\nexcerpt: '\" + html_escape(item.excerpt) + \"'\"\n",
    "    \n",
    "    md += \"\\ndate: \" + str(item.pub_date) \n",
    "    \n",
    "    if len(str(item.venue)) > 5:\n",
    "        md += \"\\nvenue: '\" + html_escape(item.venue) + \"'\"\n",
    "    \n",
    "    if len(str(item.paper_url)) > 5:\n",
    "        md += \"\\npaperurl: '\" + item.paper_url + \"'\"\n",
    "    if len(str(item.citation)) > 5:\n",
    "        md += \"\\ncitation: '\" + html_escape(item.citation) + \"'\"\n",
    "    \n",
    "    md += \"\\n---\"\n",
    "    \n",
    "    ## Markdown description for individual page\n",
    "        \n",
    "    if len(str(item.excerpt)) > 5:\n",
    "        md += \"\\n\" + html_escape(item.excerpt) + \"\\n\"\n",
    "    \n",
    "    if len(str(item.paper_url)) > 5:\n",
    "        md += \"\\n[View paper here](\" + item.paper_url + \")\\n\" \n",
    "        \n",
    "    if len(str(item.download_url)) > 5:\n",
    "        if 'www' in str(item.download_url):\n",
    "            md += \"\\n[Download paper here](\" + item.download_url + \")\\n\" \n",
    "        else:\n",
    "            md += \"\\n[Download paper here]({{site.url}}/docs/\" + item.download_url + \")\\n\" \n",
    "        \n",
    "    if len(str(item.citation)) > 5:\n",
    "        md += \"\\nRecommended citation: \" + item.citation\n",
    "    \n",
    "    md_filename = os.path.basename(md_filename)\n",
    "       \n",
    "    with open(\"../_publications/\" + md_filename, 'w') as f:\n",
    "        f.write(md)"
   ]
  },
  {
   "cell_type": "markdown",
   "metadata": {},
   "source": [
    "These files are in the publications directory, one directory below where we're working from."
   ]
  },
  {
   "cell_type": "code",
   "execution_count": 8,
   "metadata": {
    "scrolled": true
   },
   "outputs": [
    {
     "name": "stdout",
     "output_type": "stream",
     "text": [
      "2001-01-01-solving-the-simple-plant-location-problem-by-genetic-algorithm.md\r\n",
      "2002-01-01-evolutionary-local-search-for-the-edge-biconnectivity-augmentation-problem.md\r\n",
      "2003-01-01-a-memetic-algorithm-for-minimum-cost-vertex-biconnectivity-augmentation-of-graphs.md\r\n",
      "2006-01-01-an-algorithmic-framework-for-the-exact-solution-of-the-prize-collecting-steiner-tree-problem.md\r\n",
      "2009-01-01-obtaining-optimal-k-cardinality-trees-fast.md\r\n",
      "2010-01-01-a-branch-and-cut-and-price-algorithm-for-vertex-biconnectivity-augmentation.md\r\n",
      "2010-01-01-orientation-based-models-for-{0,1,2}-survivable-network-design:-theory-and-practice.md\r\n",
      "2010-01-01-the-regenerator-location-problem.md\r\n",
      "2011-01-01-mip-models-for-connected-facility-location:-a-theoretical-and-computational-study.md\r\n",
      "2012-01-01-exact-approaches-to-the-single-source-network-loading-problem.md\r\n",
      "2012-01-01-qtl-mapping-using-a-memetic-algorithm-with-modifications-of-bic-as-fitness-function.md\r\n",
      "2013-01-01-a-cutting-plane-algorithm-for-the-capacitated-connected-facility-location-problem.md\r\n",
      "2013-01-01-a-note-on-the-bertsimas-and-sim-algorithm-for-robust-combinatorial-optimization-problems.md\r\n",
      "2013-01-01-enhanced-formulations-and-branch-and-cut-for-the-two-level-network-design-problem-with-transition-facilities.md\r\n",
      "2013-01-01-exact-approaches-for-solving-robust-prize-collecting-steiner-tree-problems.md\r\n",
      "2013-01-01-lagrangian-decompositions-for-the-two-level-fttx-network-design-problem.md\r\n",
      "2013-01-01-layered-graph-approaches-to-the-hop-constrained-connected-facility-location-problem.md\r\n",
      "2013-01-01-the-maximum-weight-connected-subgraph-problem.md\r\n",
      "2014-01-01-a-mip-based-heuristic-approach-to-solve-a-prize-collecting-local-access-network-design-problem.md\r\n",
      "2014-01-01-hop-constrained-steiner-trees-with-multiple-root-nodes.md\r\n",
      "2015-01-01-a-computational-study-of-exact-approaches-for-the-bi-objective-prize-collecting-steiner-tree-problem.md\r\n",
      "2015-01-01-the-generalized-regenerator-location-problem.md\r\n",
      "2015-01-01-the-recoverable-robust-two-level-network-design-problem.md\r\n",
      "2015-01-01-the-two-level-diameter-constrained-spanning-tree-problem.md\r\n",
      "2016-01-01-a-node-based-layered-graph-approach-for-the-steiner-tree-problem-withrevenues,-budget-and-hop-constraints.md\r\n",
      "2016-01-01-benders-decomposition-without-separability:-a-computational-study-for-capacitated-facility-location-problems.md\r\n",
      "2016-01-01-ilp-heuristics-and-a-new-exact-method-for-bi-objective-ilps-application-to-fttx-network-design.md\r\n",
      "2017-01-01-a-new-general-purpose-algorithm-for-mixed-integer-bilevel-linear-programs.md\r\n",
      "2017-01-01-a-node-based-ilp-formulation-for-the-node-weighted-dominating-steiner-problem.md\r\n",
      "2017-01-01-an-algorithmic-framework-for-the-exact-solution-of-tree-star-problems.md\r\n",
      "2017-01-01-an-effective-dynamic-programming-algorithm-for-the-minimum-cost-maximal-knapsack-packing-problem.md\r\n",
      "2017-01-01-feature-cluster:-recent-advances-in-exact-methods-for-multi-objective-optimisation.md\r\n",
      "2017-01-01-operations-research-proceedings-2015.md\r\n",
      "2017-01-01-redesigning-benders-decomposition-for-large-scale-facility-location.md\r\n",
      "2017-01-01-solving-minimum-cost-shared-arborescence-problems.md\r\n",
      "2017-01-01-stochastic-survivable-network-design-problems:-theory-and-practice.md\r\n",
      "2017-01-01-thinning-out-steiner-trees:-a-node-based-model-for-uniform-edge-costs.md\r\n",
      "2018-01-01-a-dual-ascent-based-branch-and-bound-framework-for-the-prize-collecting-steiner-tree-and-related-problems.md\r\n",
      "2018-01-01-decomposition-methods-for-the-two-stage-stochastic-steiner-tree-problem.md\r\n",
      "2018-01-01-on-the-use-of-intersection-cuts-for-bilevel-optimization.md\r\n",
      "2018-01-01-outer-approximation-and-submodular-cuts-for-maximum-capture-facility-location-problems-with-random-utilities.md\r\n",
      "2018-01-01-the-connected-facility-location-polytope.md\r\n",
      "2019-01-01-a-new-branch-and-bound-algorithm-for-the-maximum-edge-weighted-clique-problem.md\r\n",
      "2019-01-01-benders-decomposition-for-very-large-scale-partial-set-covering-and-maximal-covering-problems.md\r\n",
      "2019-01-01-exact-approaches-for-network-design-problems-with-relays.md\r\n",
      "2019-01-01-exact-approaches-for-the-directed-network-design-problem-with-relays.md\r\n",
      "2019-01-01-interdiction-games-and-monotonicity,-with-application-to-knapsack-problems.md\r\n",
      "2019-01-01-the-incremental-connected-facility-location-problem.md\r\n",
      "2019-01-01-the-maximum-clique-interdiction-problem.md\r\n",
      "2019-01-01-tighter-mip-formulations-for-barge-container-ship-routing.md\r\n",
      "2020-01-01-a-polyhedral-study-of-the-diameter-constrained-minimum-spanning-tree-problem.md\r\n",
      "2020-01-01-location-of-charging-stations-in-electric-car-sharing-systems.md\r\n",
      "2020-01-01-maximizing-submodular-utility-functions-combined-with-a-set-union-operator-over-a-discrete-set.md\r\n",
      "2020-01-01-on-integer-and-bilevel-formulations-for-the-k-vertex-cut-problem.md\r\n",
      "2020-01-01-preface:-decomposition-methods-for-hard-optimization-problems.md\r\n",
      "2021-01-01-a-branch-and-cut-algorithm-for-the-edge-interdiction-clique-problem.md\r\n",
      "2021-01-01-an-exact-method-for-assortment-optimization-under-the-nested-logit-model.md\r\n",
      "2021-01-01-an-exact-method-for-fortification-games.md\r\n",
      "2021-01-01-benders-decomposition-for-a-node-capacitated-virtual-network-functions-placement-and-routing-problem.md\r\n",
      "2021-01-01-casting-light-on-the-hidden-bilevel-combinatorial-structure-of-the-capacitated-vertex-separator-problem.md\r\n",
      "2021-01-01-exact-methods-for-discrete-gamma-robust-min-max-problems.md\r\n",
      "2021-01-01-freight-on-transit-for-urban-last-mile-deliveries:-a-strategic-planning-approach.md\r\n",
      "2021-01-01-new-ip-based-lower-bounds-for-small-ramsey-numbers-using-circulant-graphs.md\r\n",
      "2021-01-01-solving-steiner-trees---recent-advances,-challenges-and-perspectives.md\r\n",
      "2021-01-01-survey-on-mixed-integer-programming-techniques-in-bilevel-optimization.md\r\n",
      "2021-01-01-the-generalized-reserve-set-covering-problem-with-connectivity-and-buffer-requirements.md\r\n",
      "2021-01-01-two-extended-formulations-for-the-virtual-network-function-placement-and-routing-problem.md\r\n",
      "2022-01-01-a-tailored-benders-decomposition-approach-for-last-mile-delivery-with-autonomous-robots.md\r\n",
      "2022-01-01-benders-adaptive-cuts-method-for-two-stage-stochastic-programs.md\r\n",
      "2022-01-01-budgeting-in-international-humanitarian-organizations.md\r\n",
      "2022-01-01-comparison-of-formulations-for-the-inventory-routing-problem.md\r\n",
      "2022-01-01-the-impact-of-passive-social-media-users-in-(competitive)-influence-maximization.md\r\n",
      "2022-01-01-three-network-design-problems-for-community-energy-storage.md\r\n",
      "2022-02-01-arc-routing-with-electric-vehicles:-dynamic-charging-and-speed-dependent-energy-consumption.md\r\n"
     ]
    }
   ],
   "source": [
    "!ls ../_publications/"
   ]
  },
  {
   "cell_type": "code",
   "execution_count": 17,
   "metadata": {},
   "outputs": [
    {
     "name": "stdout",
     "output_type": "stream",
     "text": [
      "---\r\n",
      "title: \"ILP heuristics and a new exact method for bi-objective 0/1 ILPs: Application to FTTx-network design\"\r\n",
      "collection: publications\r\n",
      "author: 'M. Leitner, I. Ljubic, M. Sinnl, A. Werner'\r\n",
      "permalink: /publication/2016-01-01-ilp-heuristics-and-a-new-exact-method-for-bi-objective-0/1-ilps:-application-to-fttx-network-design\r\n",
      "date: 2016-01-01\r\n",
      "venue: 'Comput. Oper. Res. 72: 128-146'\r\n",
      "paperurl: 'http://www.sciencedirect.com/science/article/pii/S0305054816300302'\r\n",
      "---\r\n",
      "[View paper here](http://www.sciencedirect.com/science/article/pii/S0305054816300302)\r\n",
      "\r\n",
      "[Download paper here]({{site.url}}/docs/http://homepage.univie.ac.at/markus.sinnl/wp-content/uploads/2013/09/biobjkarch-techreport.pdf)\r\n"
     ]
    }
   ],
   "source": [
    "!cat ../_publications/1-ilps:-application-to-fttx-network-design.md"
   ]
  },
  {
   "cell_type": "code",
   "execution_count": null,
   "metadata": {
    "collapsed": true
   },
   "outputs": [],
   "source": [
    "2016-01-01-ilp-heuristics-and-a-new-exact-method-for-bi-objective-ilps-application-to-fttx-network-design.md"
   ]
  },
  {
   "cell_type": "code",
   "execution_count": 18,
   "metadata": {},
   "outputs": [
    {
     "data": {
      "text/plain": [
       "'ilp heuristics and a new exact method for bi-objective 0/1 ilps: application to fttx-network design'"
      ]
     },
     "execution_count": 18,
     "metadata": {},
     "output_type": "execute_result"
    }
   ],
   "source": []
  },
  {
   "cell_type": "code",
   "execution_count": 19,
   "metadata": {},
   "outputs": [
    {
     "data": {
      "text/plain": [
       "'ilp-heuristics-and-a-new-exact-method-for-bi-objective-0/1-ilps:-application-to-fttx-network-design'"
      ]
     },
     "execution_count": 19,
     "metadata": {},
     "output_type": "execute_result"
    }
   ],
   "source": [
    "'-'.join([i for i in \"ILP heuristics and a new exact method for bi-objective 0/1 ILPs: Application to FTTx-network design\".lower().split()])"
   ]
  },
  {
   "cell_type": "code",
   "execution_count": null,
   "metadata": {},
   "outputs": [],
   "source": []
  }
 ],
 "metadata": {
  "kernelspec": {
   "display_name": "Python 3 (ipykernel)",
   "language": "python",
   "name": "python3"
  },
  "language_info": {
   "codemirror_mode": {
    "name": "ipython",
    "version": 3
   },
   "file_extension": ".py",
   "mimetype": "text/x-python",
   "name": "python",
   "nbconvert_exporter": "python",
   "pygments_lexer": "ipython3",
   "version": "3.8.8"
  }
 },
 "nbformat": 4,
 "nbformat_minor": 1
}
