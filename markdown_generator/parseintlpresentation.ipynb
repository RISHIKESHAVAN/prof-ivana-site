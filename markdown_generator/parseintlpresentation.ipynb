{
 "cells": [
  {
   "cell_type": "code",
   "execution_count": 2,
   "id": "dff07add",
   "metadata": {},
   "outputs": [],
   "source": [
    "from bs4 import BeautifulSoup"
   ]
  },
  {
   "cell_type": "code",
   "execution_count": 20,
   "id": "fb110c8d",
   "metadata": {},
   "outputs": [],
   "source": [
    "with open(\"intlpresent.html\") as fp:\n",
    "    soup = BeautifulSoup(fp, 'html.parser')"
   ]
  },
  {
   "cell_type": "code",
   "execution_count": 21,
   "id": "8550a6b2",
   "metadata": {},
   "outputs": [
    {
     "data": {
      "text/plain": [
       "<ol>\n",
       "<li> The Edge Interdiction Clique Problem, <br/>\n",
       "<a href=\"https://euro2021athens.com/\">EURO Athens 2021</a>, Greece, 11-14 July 2021 </li>\n",
       "<li> Two Branch-and-cut Algorithms for the Directed Network Design Problem with Relays, <br/>\n",
       "<a href=\"http://informs_tnac2020.zib.de/\">15th INFORMS Telecommunications and Network Analytics Conference</a> (online), October 20-21, 2020. </li>\n",
       "<li> A New Bilevel Approach For the k-vertex Cut Problem, <br/>\n",
       "<a href=\"http://meetings2.informs.org/wordpress/seattle2019/\">INFORMS Annual Meeting</a>, October 20-23, 2019, Seattle, Washington, US</li>\n",
       "<li> <a href=\"research/slides/INOC2019_Ljubic.pdf\">On\tInteger\tand Bilevel Formulations for the k-Vertex Cut Problem</a>, <br/>\n",
       "<a href=\"https://inoc2019.sciencesconf.org/\"> INOC 2019</a> (International Network Optimization Conference), 12-14 June 2019, Avignon, France </li>\n",
       "<li> Optimal vehicle routing with autonomous devices for last-mile delivery, <br/>\n",
       "<a href=\"https://verolog2019.sciencesconf.org/browse/speaker?authorid=369995\">VeRoLog 2019</a> (Workshop of the EURO Working Group on Vehicle Routing and Logistics optimization), 2-5 June, 2019, Seville, Spain </li>\n",
       "<li> Clique Interdiction Attacks in Networks, <br/>\n",
       "<a href=\"http://meetings2.informs.org/wordpress/phoenix2018/\">INFORMS Annual Meeting</a>, Nov 4-7, 2018, Phoenix, AZ, US </li>\n",
       "<li> Benders Decomposition for Covering Location Problems, <br/>\n",
       "<a href=\"http://euro2018valencia.com/\">EURO 2018</a>, July 9, 2018, Valencia, Spain</li>\n",
       "<li> Decomposition Approaches to Covering Location Problems, <br/>\n",
       "<a href=\"\"> ISMP 2018</a>, July 3, 2018, Bordeaux, France </li>\n",
       "<li> <a href=\"research/slides/Odysseus2018_Ljubic.pdf\">The Directed Network Design Problem with Relays</a>, <br/>\n",
       "<a href=\"http://convegni.unica.it/odysseus2018/\">Odysseus 2018</a>, Seventh International Workshop on Freight Transportation and Logistics, June 8, Cagliari, Italy </li>\n",
       "<li> <a href=\"research/slides/informsTelecom2018_Ljubic.pdf\">MIP Modeling of Incremental Connected Facility Location</a>, <br/>\n",
       "<a href=\"https://www.bwl.uni-hamburg.de/en/iwi/forschung/konferenzen/informs2018.html\">INFORMS Telecommunications Conference 2018,</a> Hamburg, Germany </li>\n",
       "<li> <a href=\"research/slides/ECSO2017_Ljubic.pdf\">Decomposition Methods for Stochastic Steiner Trees</a>,<br/>\n",
       "<a href=\"\">European Conference on Stochastic Optimization, ECSO 2017</a>, September 22, Rome, Italy</li>\n",
       "<li> <a href=\"research/slides/Optimization2017_Ljubic.pdf\">Outer Approximation and Submodular Cuts for Maximum Capture Facility Location Problems with Random Utilities</a>, <br/>\n",
       "<a href=\"http://optimization2017.fc.ul.pt/\">Optimization 2017 Conference</a>, September 7, 2017, Lisbon, Portugal </li>\n",
       "<li> New Decomposition Approaches for the Two-Stage Stochastic Steiner Tree Problem, <br/>\n",
       "<a href=\"http://optimization2017.fc.ul.pt/workshop.html\">Workshop celebrating the 60th birthday of Luis Gouveia</a>, September 6, 2017, Lisbon, Portugal </li>\n",
       "<li> Clique Interdiction in the Social Network Analysis,<br/>\n",
       "<a href=\"http://inoc2017.fc.ul.pt/\">INOC 2017</a>, February 28, 2017, Lisbon, Portugal </li>\n",
       "<li> On Clique Interdiction Problems in Graphs,<br/>\n",
       "<a href=\"http://roadef2017.event.univ-lorraine.fr/\">ROADEF 2017</a>, February 23, 2017, Metz, France </li>\n",
       "<li> <a href=\"https://www.fondation-hadamard.fr/sites/default/files/public/bibliotheque/gamesandprobabilities-ljubic.pdf\">Interdiction Games and Monotonicity</a>,<br/>\n",
       "<a href=\"https://www.fondation-hadamard.fr/fr/pgmo/pgmodays#OR2\">PGMO Days 2016</a>, November 8-9, 2016, Paris, France </li>\n",
       "<li> A new exact solver for mixed-integer bilevel linear programs based in intersection cuts, <br/>\n",
       "<a href=\"http://campus.hesge.ch/varones/go/10/#\">GO X</a>, July 11, 2016 Mount Rigi, Switzerland </li>\n",
       "<li> Intersection Cuts for Mixed-Integer Bilevel Linear Programs, <br/>\n",
       "<a href=\"http://www.euro2016.poznan.pl/\">EURO 2016</a>, July 5, 2016, Poznan, Poland </li>\n",
       "<li> Generalized Benders Cuts for Congested Facility Location, <br/>\n",
       "<a href=\"http://tristan-symposium.org/\">TRISTAN 2016</a>, 13-17 June, 2016, Aruba </li>\n",
       "<li> Exact Approaches for Network Design Problems with Relays, <br/>\n",
       "<a href=\"http://isco2016.it/\">ISCO 2016</a>, May 16, 2016, Vietri sul Mare, Italy </li>\n",
       "<li> Solving Minimum-Cost Shared Arborescence Problems, <br/>\n",
       "<a href=\"https://sites.psu.edu/informstelecom2016/\">INFORMS Telecommunications Conference 2016</a>, March 21, 2016, Boca Raton, FL, USA</li>\n",
       "<li> Solving Congested Facility Location by Branch-and-Cut, <br/>\n",
       "<a href=\"http://roadef2016.utc.fr/papers/235/\">ROADEF 2016</a>, February 10, 2016, Compiegne, France</li>\n",
       "<li>   Exact  Approaches  to  the  Network  Design  Problem with Relays,<br/>\n",
       "<a href=\"http://or2015.univie.ac.at\"> OR 2015</a>, September 2, 2015, Vienna, Austria </li>\n",
       "<li> ILP Formulations for the Lazy Bureaucrat Problem, <br/>\n",
       "<a href=\"www.euro2015.org\"> EURO 2015</a>, July 14, 2015, Glasgow, UK </li>\n",
       "<li> A node-based layered graph approach for hop-constrained Steiner trees, <br/>\n",
       "<a href=\"www.inoc2015.pl\">INOC 2015</a>, May 20, 2015, Warsaw, Poland </li>\n",
       "<li> The Recoverable Robust Two-Level Network Design Problem, <br/>\n",
       "<a href=\"http://www.siam.org/meetings/op14/\"> SIAM Conference on Optimization</a>, May 21, 2014, San Diego, CA </li>\n",
       "<li> The Recoverable Robust Facility Location Problem, <br/>\n",
       "<a href=\"http://isco2014.fc.ul.pt/\"> ISCO 2014 </a>, March 5, 2014, Lissabon, Portugal </li>\n",
       "<li> The Maximum Weight Connected Subgraph Problem, <br/>\n",
       "<a href=\"http://euro2013.org/\">EURO-INFORMS Joint International Meeting 2013</a>, July 3, 2013, Rome, Italy </li>\n",
       "<li> Layered graph models for hop constrained trees with multiple roots, <br/>\n",
       "<a href=\"http://ismp2012.mathopt.org/\">21st International Symposium on Mathematical Programming (ISMP 2012)</a>, August 19-24, 2012, Berlin, Germany </li>\n",
       "<li> Capacitated Network Design with Facility Location, <br/>\n",
       "<a href=\"http://www.euro-2012.lt/welcome\">25th European Conference on Operational Research (EURO 2012)</a>, July 8-11, 2012, Vilnius, Lithuania </li>\n",
       "<li> Capacitated Network Design and Facility Location, <br/>\n",
       "<a href=\"http://isco12.cs.aueb.gr/\">2nd International Symposium on Combinatorial Optimization (ISCO 2012)</a>, Athens, Greece, April 17-21, 2012</li>\n",
       "<li> On the Hop Constrained Steiner Tree Problem with Multiple Root Nodes,<br/>\n",
       "<a href=\"http://www.informs.org/Community/Conferences/2012-INFORMS-Telecommunications-Conference\">The 11th INFORMS Telecommunications Conference</a>, Boca Raton, FL, March 15-17,2012 </li>\n",
       "<li> Solving Two-Stage Network Design Problems by Two-Stage Branch-and-Cut,<br/>\n",
       "<a href=\"http://www.informs.org/Community/Conferences/2012-INFORMS-Telecommunications-Conference\">The 11th INFORMS Telecommunications Conference</a>, Boca Raton, FL, March 15-17,2012 </li>\n",
       "<li> The Two Level Network Design Problem with Secondary Hop Constraints, <br/>\n",
       "Network Optimization - 5th International Conference, INOC 2011, Hamburg, Germany, June 13-16, 2011. </li>\n",
       "<li> A Two Level Network Design Problem with Transition Nodes, <br/>\n",
       "<em><a href=\"http://www.iasi.cnr.it/aussois/web/home\">15th Combinatorial Optimization Workshop,</a></em> Aussois, France, January 10-14, 2011. </li>\n",
       "<li> Solving Two-Stage Stochastic Steiner Tree Problems by Two-Stage Branch-and-Cut, <br/>\n",
       "<a href=\"http://www.univie.ac.at/cms2010/index.php\">Computational Management Science 2010</a>, Vienna, Austria, July 28-30, 2010 </li>\n",
       "<li> The Generalized Regenerator Location Problem, <br/>\n",
       "<a href=\"http://www.euro2010lisbon.org/\">EURO XXIV Lisbon</a>, Lisbon, Portugal, July 11-14, 2010</li>\n",
       "<li> MIP Models for Connected Facility Location:\n",
       "A Theoretical and Computational Study, <br/><em>\n",
       "<a href=\"https://symposia.cirrelt.ca/Informs-Telecom2010/en\">The 10th INFORMS Telecommunications Conference</a></em>,\n",
       "Montreal, Canada, May 5-7, 2010</li>\n",
       "<li> The Generalized Regenerator Location Problem, <br/><em>\n",
       "<a href=\"http://w1.cirrelt.ca/jopt2010/en/\">Journées de l'Optimisation</a></em>, Montréal, Canada, May 10-12 2010</li>\n",
       "<li> A Branch-and-cut-and-price Algorithm for Vertex-biconnectivity Augmentation, <br/><em>\n",
       "<a href=\"http://ismp2009.eecs.northwestern.edu/\">International Symposium of Mathematical Programming (ISMP)</a></em>,\n",
       "Chicago, Illinois, USA, August 23 - 28, 2009\n",
       "</li>\n",
       "<li> The Generalized Regenerator Location Problem, <br/><em>\n",
       "<a href=\"http://www.di.unipi.it/INOC2009/\">International Network Optimization Conference (INOC)</a></em>, Pisa, Italy, April 26-29, 2009\n",
       "</li>\n",
       "<li> Exact Approaches to the Single-source Network Loading Problem, <br/><em>\n",
       "<a href=\"http://makalu.informatik.uni-heidelberg.de/\"> 13th Combinatorial Optimization Workshop,</a></em> Aussois, France, January 11-17, 2009. </li>\n",
       "<li>    Benders Cuts for the Single-source Network Loading Problem, <br/><em> <a href=\"https://informs.emeetingsonline.com/emeetings/formbuilder/clustersessiondtl.asp?csnno=8974&amp;mmnno=176&amp;ppnno=33931\">INFORMS Annual Meeting 2008,</a></em>\n",
       "Washington, DC, October 12-15, 2008. </li>\n",
       "<li> Strong Formulations for 2-Node-Connected Steiner Network Problems, <br/>\n",
       "<em> <a href=\"http://www.siam.org/meetings/op08/\"> SIAM Conference on Optimization</a></em>,\n",
       "Boston, Massachusetts, May 10-13, 2008. </li>\n",
       "<li> Solving Connected Facility Location to Provable Optimality, <br/>\n",
       "<em> <a href=\"http://telecom.section.informs.org/conference08/\"> Ninth INFORMS Telecommunications Conference</a></em>,\n",
       "University of Maryland, College Park, Washington, DC Area, March 27-29, 2008.</li>\n",
       "<li> A Hybrid VNS for Connected Facility Location, <br/>\n",
       "<em> <a href=\"http://ls11-www.cs.uni-dortmund.de/hm2007/index.php\"> HM 2007</a></em>, Dormund, Germany, October 8-9 , 2007.\n",
       "</li>\n",
       "<li> Facility Location and Steiner Trees, <br/>\n",
       "<em> <a href=\"http://www.fep.up.pt/opti2007/\"> Optimization 2007</a></em>, Porto, Portugal, July  22-25, 2007.\n",
       "</li>\n",
       "<li>Connected Facility Location: VNS, Tabu-Search and Branch-and-Cut, <br/>\n",
       "<em><a href=\"http://www.intelligent-optimization.org/\"> Learning and Intelligent OptimizatioN (LION 2007)</a>,</em>\n",
       "Andalo (Trento), Italy, February 12-18, 2007.\n",
       "</li>\n",
       "<li> Solving the Prize-Collecting Steiner Tree Problem to Optimality, <br/>\n",
       "<em> <a href=\"http://www.siam.org/meetings/alenex05/\">Algorithm Engineering and Experiments (ALENEX 2005) </a> </em>, Vancouver, British Columbia, Canada, January 22, 2005.</li>\n",
       "</ol>"
      ]
     },
     "execution_count": 21,
     "metadata": {},
     "output_type": "execute_result"
    }
   ],
   "source": [
    "soup"
   ]
  },
  {
   "cell_type": "code",
   "execution_count": 37,
   "id": "1fa4af4e",
   "metadata": {},
   "outputs": [],
   "source": [
    "titles=[]"
   ]
  },
  {
   "cell_type": "code",
   "execution_count": 39,
   "id": "3977f8fd",
   "metadata": {},
   "outputs": [],
   "source": [
    "for l in soup.find_all('li'):\n",
    "    t = l.contents[0].strip()[:-1]\n",
    "    if len(t) > 0:\n",
    "        titles.append(t)\n",
    "        "
   ]
  },
  {
   "cell_type": "code",
   "execution_count": 41,
   "id": "d1242d17",
   "metadata": {
    "scrolled": true
   },
   "outputs": [
    {
     "data": {
      "text/plain": [
       "43"
      ]
     },
     "execution_count": 41,
     "metadata": {},
     "output_type": "execute_result"
    }
   ],
   "source": [
    "len(titles)"
   ]
  },
  {
   "cell_type": "code",
   "execution_count": 42,
   "id": "6b251b17",
   "metadata": {},
   "outputs": [
    {
     "name": "stdout",
     "output_type": "stream",
     "text": [
      "<br/>\n",
      "<br/>\n",
      "<br/>\n",
      "<a href=\"research/slides/INOC2019_Ljubic.pdf\">On\tInteger\tand Bilevel Formulations for the k-Vertex Cut Problem</a>\n",
      "<br/>\n",
      "<br/>\n",
      "<br/>\n",
      "<br/>\n",
      "<a href=\"research/slides/Odysseus2018_Ljubic.pdf\">The Directed Network Design Problem with Relays</a>\n",
      "<a href=\"research/slides/informsTelecom2018_Ljubic.pdf\">MIP Modeling of Incremental Connected Facility Location</a>\n",
      "<a href=\"research/slides/ECSO2017_Ljubic.pdf\">Decomposition Methods for Stochastic Steiner Trees</a>\n",
      "<a href=\"research/slides/Optimization2017_Ljubic.pdf\">Outer Approximation and Submodular Cuts for Maximum Capture Facility Location Problems with Random Utilities</a>\n",
      "<br/>\n",
      "<br/>\n",
      "<br/>\n",
      "<a href=\"https://www.fondation-hadamard.fr/sites/default/files/public/bibliotheque/gamesandprobabilities-ljubic.pdf\">Interdiction Games and Monotonicity</a>\n",
      "<br/>\n",
      "<br/>\n",
      "<br/>\n",
      "<br/>\n",
      "<br/>\n",
      "<br/>\n",
      "<br/>\n",
      "<br/>\n",
      "<br/>\n",
      "<br/>\n",
      "<br/>\n",
      "<br/>\n",
      "<br/>\n",
      "<br/>\n",
      "<br/>\n",
      "<br/>\n",
      "<br/>\n",
      "<br/>\n",
      "<br/>\n",
      "<br/>\n",
      "<br/>\n",
      "<br/>\n",
      "<br/>\n",
      "<br/>\n",
      "<br/>\n",
      "<br/>\n",
      "<br/>\n",
      "<br/>\n",
      "<br/>\n",
      "<br/>\n",
      "<br/>\n",
      "<br/>\n",
      "<br/>\n"
     ]
    }
   ],
   "source": [
    "for l in soup.find_all('li'):\n",
    "    print(l.contents[1])"
   ]
  },
  {
   "cell_type": "code",
   "execution_count": null,
   "id": "79c7abcb",
   "metadata": {},
   "outputs": [],
   "source": []
  }
 ],
 "metadata": {
  "kernelspec": {
   "display_name": "Python 3 (ipykernel)",
   "language": "python",
   "name": "python3"
  },
  "language_info": {
   "codemirror_mode": {
    "name": "ipython",
    "version": 3
   },
   "file_extension": ".py",
   "mimetype": "text/x-python",
   "name": "python",
   "nbconvert_exporter": "python",
   "pygments_lexer": "ipython3",
   "version": "3.8.8"
  }
 },
 "nbformat": 4,
 "nbformat_minor": 5
}
