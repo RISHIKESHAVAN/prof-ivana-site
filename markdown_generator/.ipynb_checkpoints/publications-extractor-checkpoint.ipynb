{
 "cells": [
  {
   "cell_type": "code",
   "execution_count": 1,
   "id": "d9b68f6a",
   "metadata": {},
   "outputs": [],
   "source": [
    "from bs4 import BeautifulSoup\n",
    "from datetime import datetime\n",
    "\n",
    "import time\n",
    "import pytz"
   ]
  },
  {
   "cell_type": "code",
   "execution_count": 3,
   "id": "0816c6cd",
   "metadata": {},
   "outputs": [
    {
     "ename": "UnicodeDecodeError",
     "evalue": "'utf-8' codec can't decode byte 0xe1 in position 2901: invalid continuation byte",
     "output_type": "error",
     "traceback": [
      "\u001b[0;31m---------------------------------------------------------------------------\u001b[0m",
      "\u001b[0;31mUnicodeDecodeError\u001b[0m                        Traceback (most recent call last)",
      "\u001b[0;32m/var/folders/y_/ff7_m0c146ddrr_mctd4vpkh0000gn/T/ipykernel_15056/604788871.py\u001b[0m in \u001b[0;36m<module>\u001b[0;34m\u001b[0m\n\u001b[1;32m      1\u001b[0m \u001b[0;32mwith\u001b[0m \u001b[0mopen\u001b[0m\u001b[0;34m(\u001b[0m\u001b[0;34m\"html-files/publications.html\"\u001b[0m\u001b[0;34m)\u001b[0m \u001b[0;32mas\u001b[0m \u001b[0mfp\u001b[0m\u001b[0;34m:\u001b[0m\u001b[0;34m\u001b[0m\u001b[0;34m\u001b[0m\u001b[0m\n\u001b[0;32m----> 2\u001b[0;31m     \u001b[0msoup\u001b[0m \u001b[0;34m=\u001b[0m \u001b[0mBeautifulSoup\u001b[0m\u001b[0;34m(\u001b[0m\u001b[0mfp\u001b[0m\u001b[0;34m,\u001b[0m \u001b[0;34m'html.parser'\u001b[0m\u001b[0;34m,\u001b[0m \u001b[0mfrom_encoding\u001b[0m\u001b[0;34m=\u001b[0m\u001b[0;34m\"iso-8859-8\"\u001b[0m\u001b[0;34m)\u001b[0m\u001b[0;34m\u001b[0m\u001b[0;34m\u001b[0m\u001b[0m\n\u001b[0m",
      "\u001b[0;32m/opt/homebrew/Caskroom/miniforge/base/envs/webscraper_env/lib/python3.8/site-packages/bs4/__init__.py\u001b[0m in \u001b[0;36m__init__\u001b[0;34m(self, markup, features, builder, parse_only, from_encoding, exclude_encodings, element_classes, **kwargs)\u001b[0m\n\u001b[1;32m    309\u001b[0m \u001b[0;34m\u001b[0m\u001b[0m\n\u001b[1;32m    310\u001b[0m         \u001b[0;32mif\u001b[0m \u001b[0mhasattr\u001b[0m\u001b[0;34m(\u001b[0m\u001b[0mmarkup\u001b[0m\u001b[0;34m,\u001b[0m \u001b[0;34m'read'\u001b[0m\u001b[0;34m)\u001b[0m\u001b[0;34m:\u001b[0m        \u001b[0;31m# It's a file-type object.\u001b[0m\u001b[0;34m\u001b[0m\u001b[0;34m\u001b[0m\u001b[0m\n\u001b[0;32m--> 311\u001b[0;31m             \u001b[0mmarkup\u001b[0m \u001b[0;34m=\u001b[0m \u001b[0mmarkup\u001b[0m\u001b[0;34m.\u001b[0m\u001b[0mread\u001b[0m\u001b[0;34m(\u001b[0m\u001b[0;34m)\u001b[0m\u001b[0;34m\u001b[0m\u001b[0;34m\u001b[0m\u001b[0m\n\u001b[0m\u001b[1;32m    312\u001b[0m         elif len(markup) <= 256 and (\n\u001b[1;32m    313\u001b[0m                 \u001b[0;34m(\u001b[0m\u001b[0misinstance\u001b[0m\u001b[0;34m(\u001b[0m\u001b[0mmarkup\u001b[0m\u001b[0;34m,\u001b[0m \u001b[0mbytes\u001b[0m\u001b[0;34m)\u001b[0m \u001b[0;32mand\u001b[0m \u001b[0;32mnot\u001b[0m \u001b[0;34mb'<'\u001b[0m \u001b[0;32min\u001b[0m \u001b[0mmarkup\u001b[0m\u001b[0;34m)\u001b[0m\u001b[0;34m\u001b[0m\u001b[0;34m\u001b[0m\u001b[0m\n",
      "\u001b[0;32m/opt/homebrew/Caskroom/miniforge/base/envs/webscraper_env/lib/python3.8/codecs.py\u001b[0m in \u001b[0;36mdecode\u001b[0;34m(self, input, final)\u001b[0m\n\u001b[1;32m    320\u001b[0m         \u001b[0;31m# decode input (taking the buffer into account)\u001b[0m\u001b[0;34m\u001b[0m\u001b[0;34m\u001b[0m\u001b[0;34m\u001b[0m\u001b[0m\n\u001b[1;32m    321\u001b[0m         \u001b[0mdata\u001b[0m \u001b[0;34m=\u001b[0m \u001b[0mself\u001b[0m\u001b[0;34m.\u001b[0m\u001b[0mbuffer\u001b[0m \u001b[0;34m+\u001b[0m \u001b[0minput\u001b[0m\u001b[0;34m\u001b[0m\u001b[0;34m\u001b[0m\u001b[0m\n\u001b[0;32m--> 322\u001b[0;31m         \u001b[0;34m(\u001b[0m\u001b[0mresult\u001b[0m\u001b[0;34m,\u001b[0m \u001b[0mconsumed\u001b[0m\u001b[0;34m)\u001b[0m \u001b[0;34m=\u001b[0m \u001b[0mself\u001b[0m\u001b[0;34m.\u001b[0m\u001b[0m_buffer_decode\u001b[0m\u001b[0;34m(\u001b[0m\u001b[0mdata\u001b[0m\u001b[0;34m,\u001b[0m \u001b[0mself\u001b[0m\u001b[0;34m.\u001b[0m\u001b[0merrors\u001b[0m\u001b[0;34m,\u001b[0m \u001b[0mfinal\u001b[0m\u001b[0;34m)\u001b[0m\u001b[0;34m\u001b[0m\u001b[0;34m\u001b[0m\u001b[0m\n\u001b[0m\u001b[1;32m    323\u001b[0m         \u001b[0;31m# keep undecoded input until the next call\u001b[0m\u001b[0;34m\u001b[0m\u001b[0;34m\u001b[0m\u001b[0;34m\u001b[0m\u001b[0m\n\u001b[1;32m    324\u001b[0m         \u001b[0mself\u001b[0m\u001b[0;34m.\u001b[0m\u001b[0mbuffer\u001b[0m \u001b[0;34m=\u001b[0m \u001b[0mdata\u001b[0m\u001b[0;34m[\u001b[0m\u001b[0mconsumed\u001b[0m\u001b[0;34m:\u001b[0m\u001b[0;34m]\u001b[0m\u001b[0;34m\u001b[0m\u001b[0;34m\u001b[0m\u001b[0m\n",
      "\u001b[0;31mUnicodeDecodeError\u001b[0m: 'utf-8' codec can't decode byte 0xe1 in position 2901: invalid continuation byte"
     ]
    }
   ],
   "source": [
    "with open(\"html-files/publications.html\") as fp:\n",
    "    soup = BeautifulSoup(fp, 'html.parser')"
   ]
  },
  {
   "cell_type": "code",
   "execution_count": 6,
   "id": "b3993e01",
   "metadata": {},
   "outputs": [
    {
     "name": "stdout",
     "output_type": "stream",
     "text": [
      "1605037852267.pdf\r\n",
      "220805_fonduer_v1.ipynb\r\n",
      "376346461397-4666622679-ticket.pdf\r\n",
      "6412.jpg\r\n",
      "6421.jpg\r\n",
      "6433.jpg\r\n",
      "ASSOCIATION GROUPE ESSEC - b00781531@essec.edu - Contrat moniteur 2022-2023 - Preview.pdf\r\n",
      "AccountStatement_7_22_2022_6_15_33.pdf\r\n",
      "AndroidFileTransfer.dmg\r\n",
      "CV_Checklist_-_EN.680537760.docx\r\n",
      "Citi.png\r\n",
      "DCA-AppointmentNotes_202209181245.pdf\r\n",
      "Draft AST - 5 Pilgrims.pdf\r\n",
      "Flyer MYCECURITY MONITEUR - version française et anglaise.pdf\r\n",
      "Flyer+Achat+de+timbre+fiscal.pdf\r\n",
      "HSC_wise_transaction_invoice__transfer__452415436__461402752__en (1).pdf\r\n",
      "HSC_wise_transaction_invoice__transfer__452415436__461402752__en.pdf\r\n",
      "Hotel Booking Analysis - Data Viz Course.twbx\r\n",
      "Internship_report_DSBA_M2_deadline_December15.docx\r\n",
      "Issue of a foreign residence permit - State services Préfecture de Police.pdf\r\n",
      "\u001b[34mJMeriseESSEC22\u001b[m\u001b[m\r\n",
      "\u001b[34mLinkedIn-Logos\u001b[m\u001b[m\r\n",
      "MHBAN01258610000027101_new.pdf\r\n",
      "\u001b[34mPhotography 2\u001b[m\u001b[m\r\n",
      "Production Curriculum.pdf\r\n",
      "Report.pdf\r\n",
      "SBI Life - Smart Platina Plus_Policy Document_Website Upload_628.pdf\r\n",
      "SQL_Scripts_Window_Function_Part1.sql\r\n",
      "\u001b[34mServices\u001b[m\u001b[m\r\n",
      "Sharath Devarajan cv  OG.pdf\r\n",
      "Signed_Terms_of_Employment.pdf\r\n",
      "Smart Platina Plus Brochure- BR (2).pdf\r\n",
      "Trip on  30 Jul 22 - PNR ref BTNCOQ.pdf\r\n",
      "account_details_proof_gbp.pdf\r\n",
      "amazon_PNG27.png\r\n",
      "\u001b[34maws-cloudguru-resources\u001b[m\u001b[m\r\n",
      "bank-statement.pdf\r\n",
      "booking_LON _Flights1658748569647.ics\r\n",
      "\u001b[34mdata-viz-resources-do-not-delete\u001b[m\u001b[m\r\n",
      "download.pdf\r\n",
      "fido_whitepaper.pdf\r\n",
      "french-false-beginner.docx\r\n",
      "how_is_the_interest_calculated.pdf\r\n",
      "icons8-internet-50.png\r\n",
      "isa-guide.pdf\r\n",
      "location-dot-solid.svg\r\n",
      "\u001b[34mprof-ivana\u001b[m\u001b[m\r\n",
      "salary calc.xlsx\r\n",
      "statement_22220248_GBP_2022-08-26_2022-09-27.csv\r\n",
      "statement_22220248_GBP_2022-08-26_2022-09-27.xlsx\r\n",
      "statement_22220248_GBP_2022-08-27_2022-08-27.csv\r\n",
      "statement_22220248_GBP_2022-08-27_2022-08-27.pdf\r\n",
      "\u001b[34mstats-standfrd-coursera\u001b[m\u001b[m\r\n",
      "stats-standfrd-coursera.zip\r\n",
      "\u001b[34msubmission\u001b[m\u001b[m\r\n",
      "\u001b[34mtax\u001b[m\u001b[m\r\n",
      "test-file.txt\r\n",
      "wellarchitected-framework.pdf\r\n",
      "~$statement_22220248_GBP_2022-08-26_2022-09-27.xlsx\r\n"
     ]
    }
   ],
   "source": [
    "BeautifulSoup.__"
   ]
  },
  {
   "cell_type": "code",
   "execution_count": null,
   "id": "f36eb11e",
   "metadata": {},
   "outputs": [],
   "source": []
  },
  {
   "cell_type": "code",
   "execution_count": null,
   "id": "d48eadae",
   "metadata": {},
   "outputs": [],
   "source": []
  },
  {
   "cell_type": "code",
   "execution_count": null,
   "id": "0c24b0d3",
   "metadata": {},
   "outputs": [],
   "source": []
  },
  {
   "cell_type": "code",
   "execution_count": null,
   "id": "50b03d90",
   "metadata": {},
   "outputs": [],
   "source": []
  },
  {
   "cell_type": "code",
   "execution_count": null,
   "id": "5b21ecdb",
   "metadata": {},
   "outputs": [],
   "source": []
  },
  {
   "cell_type": "code",
   "execution_count": null,
   "id": "4c04a1da",
   "metadata": {},
   "outputs": [],
   "source": []
  }
 ],
 "metadata": {
  "kernelspec": {
   "display_name": "Python 3 (ipykernel)",
   "language": "python",
   "name": "python3"
  },
  "language_info": {
   "codemirror_mode": {
    "name": "ipython",
    "version": 3
   },
   "file_extension": ".py",
   "mimetype": "text/x-python",
   "name": "python",
   "nbconvert_exporter": "python",
   "pygments_lexer": "ipython3",
   "version": "3.8.8"
  }
 },
 "nbformat": 4,
 "nbformat_minor": 5
}
