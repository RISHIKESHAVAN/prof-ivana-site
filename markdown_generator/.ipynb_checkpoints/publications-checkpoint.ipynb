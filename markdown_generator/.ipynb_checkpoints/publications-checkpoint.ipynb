{
 "cells": [
  {
   "cell_type": "markdown",
   "metadata": {},
   "source": [
    "# Publications markdown generator for academicpages\n",
    "\n",
    "Takes a TSV of publications with metadata and converts them for use with [academicpages.github.io](academicpages.github.io). This is an interactive Jupyter notebook ([see more info here](http://jupyter-notebook-beginner-guide.readthedocs.io/en/latest/what_is_jupyter.html)). The core python code is also in `publications.py`. Run either from the `markdown_generator` folder after replacing `publications.tsv` with one containing your data.\n",
    "\n",
    "TODO: Make this work with BibTex and other databases of citations, rather than Stuart's non-standard TSV format and citation style.\n"
   ]
  },
  {
   "cell_type": "markdown",
   "metadata": {},
   "source": [
    "## Data format\n",
    "\n",
    "The TSV needs to have the following columns: pub_date, title, venue, excerpt, citation, site_url, and paper_url, with a header at the top. \n",
    "\n",
    "- `excerpt` and `paper_url` can be blank, but the others must have values. \n",
    "- `pub_date` must be formatted as YYYY-MM-DD.\n",
    "- `url_slug` will be the descriptive part of the .md file and the permalink URL for the page about the paper. The .md file will be `YYYY-MM-DD-[url_slug].md` and the permalink will be `https://[yourdomain]/publications/YYYY-MM-DD-[url_slug]`\n",
    "\n",
    "This is how the raw file looks (it doesn't look pretty, use a spreadsheet or other program to edit and create)."
   ]
  },
  {
   "cell_type": "code",
   "execution_count": 8,
   "metadata": {},
   "outputs": [
    {
     "name": "stdout",
     "output_type": "stream",
     "text": [
      "pub_date\ttitle\tvenue\tauthor\texcerpt\tcitation\tpaper_url\tdownload_url\r\n",
      "2022-01-01\tComparison of Formulations for the Inventory Routing Problem\t Eur. J. Oper. Res. 303(3): 997-1008\tC. Archetti, I. Ljubic\t\t\thttps://www.sciencedirect.com/science/article/pii/S0377221721011073\tpublications/IRP.pdf\r\n",
      "2022-02-01\tArc routing with electric vehicles: dynamic charging and speed-dependent energy consumption\tTransportation Science\tE. Fernandez, M. Leitner, I. Ljubic, and M. Ruthmair\t\t\thttps://pubsonline.informs.org/doi/10.1287/trsc.2022.1126\thttp://www.optimization-online.org/DB_HTML/2019/06/7262.html\r\n",
      "2021-01-01\tSurvey on Mixed-Integer Programming Techniques in Bilevel Optimization\t EURO J. Comput. Optim. 9: 100007\tT. Kleinert, M. Labb, I. Ljubic, M. Schmidt\t\t\thttps://doi.org/10.1016/j.ejco.2021.100007\thttp://www.optimization-online.org/DB_HTML/2021/01/8187.html\r\n",
      "2021-01-01\tCasting light on the hidden bilevel combinatorial structure of the capacitated vertex separator problem\t Oper. Res. 70(4): 2399-2420\tF. Furini, I. Ljubic, E. Malaguti, P. Paronuzzi\t\t\thttps://pubsonline.informs.org/doi/abs/10.1287/opre.2021.2110\thttp://www.optimization-online.org/DB_HTML/2019/09/7389.html\r\n",
      "2022-01-01\tA tailored Benders decomposition approach for last-mile delivery with autonomous robots\tEur. J. Oper. Res. 299(2): 510-525\tL. Alfandari, I. Ljubic, M. Melo da Silva\t\t\thttps://doi.org/10.1016/j.ejor.2021.06.048\thttp://www.optimization-online.org/DB_HTML/2021/03/8279.html\r\n",
      "2022-01-01\tBudgeting in International Humanitarian Organizations\tManuf. Serv. Oper. Manag. 24(3): 1562-1577\tM. Keshvari Fard, I. Ljubic, F. Papier\t\t\thttps://pubsonline.informs.org/doi/10.1287/msom.2021.1016\thttps://papers.ssrn.com/sol3/papers.cfm?abstract_id=3464619\r\n",
      "2021-01-01\tA branch-and-cut algorithm for the Edge Interdiction Clique Problem\tEur. J. Oper. Res. 294(1): 54-69\tF. Furini, I. Ljubic, P. San Segundo, Y. Zhao\t\t\thttps://doi.org/10.1016/j.ejor.2021.01.030\thttp://www.optimization-online.org/DB_HTML/2020/08/7975.html\r\n",
      "2021-01-01\tBenders decomposition for a node-capacitated virtual network functions placement and routing problem\tComput. Oper. Res. 130: 105227\tI. Ljubic, A. Mouaci, N. Perrot, E. Gourdin\t\t\thttps://doi.org/10.1016/j.cor.2021.105227\t\r\n",
      "2021-01-01\tAn Exact Method for Assortment Optimization under the Nested Logit Model\tEur. J. Oper. Res. 291(3): 830-845\tL. Alfandari, A. Hassanzadeh, I. Ljubic\t\t\thttps://doi.org/10.1016/j.ejor.2020.12.007\tpublications/AOPNL.pdf\r\n",
      "2021-01-01\tSolving Steiner Trees - Recent Advances, Challenges and Perspectives\tNetworks 77(2):177-204\tI. Ljubic\t\t\thttps://doi.org/10.1002/net.22005\tpublications/NetworksSI.pdf\r\n",
      "2021-01-01\tThe Generalized Reserve Set Covering Problem with Connectivity and Buffer Requirements\tEur. J. Oper. Res. 289(3): 1013-1029\tE. Alvarez-Miranda, M. Goycoolea, I. Ljubic, M. Sinnl\t\t\thttps://www.sciencedirect.com/science/article/abs/pii/S0377221719305818\tpublications/grsccb-techreport.pdf\r\n",
      "2020-01-01\tA polyhedral study of the diameter constrained minimum spanning tree problem\t Discret. Appl. Math. 285: 364-379\tL. Gouveia, M. Leitner, I. Ljubic\t\t\thttps://www.sciencedirect.com/science/article/abs/pii/S0166218X20302614\tpublications/dmstp-tr.pdf\r\n",
      "2020-01-01\tPreface: Decomposition Methods for Hard Optimization Problems\tAnn. Oper. Res. 284(2): 483-485\tF. Furini, I. Ljubic, E. Traversi\t\t\thttp://link.springer.com/article/10.1007/s10479-019-03415-8\t\r\n",
      "2020-01-01\tLocation of Charging Stations in Electric Car Sharing Systems\tTransp. Sci. 54(5): 1408-1438\tG. Brandstätter, M. Leitner, and I. Ljubic\t\t\thttps://pubsonline.informs.org/doi/10.1287/trsc.2019.0931\thttp://www.optimization-online.org/DB_FILE/2017/03/5933.pdf\r\n",
      "2020-01-01\tOn Integer and Bilevel Formulations for the k-Vertex Cut Problem\tMath. Program. Comput. 12(2): 133-164\tF. Furini, I. Ljubic, E. Malaguti, P. Paronuzzi\t\t\thttps://rdcu.be/bMFkX\tpublications/kVertexCut_rev.pdf\r\n",
      "2019-01-01\tThe Incremental Connected Facility Location Problem\tComput. Oper. Res. 112\tA. Arulselvan, A. Bley, I. Ljubic\t\t\thttps://doi.org/10.1016/j.cor.2019.104763\r\n",
      "2019-01-01\tA new branch-and-bound algorithm for the maximum edge-weighted clique problem\tEur. J. Oper. Res. 278(1): 76-90\tP. San Segundo, S Coniglio, F. Furini, I. Ljubic\t\t\thttps://doi.org/10.1016/j.ejor.2019.03.047\tpublications/mewc_bb_rev.pdf\r\n",
      "2019-01-01\tThe Maximum Clique Interdiction Problem\tEur. J. Oper. Res. 277(1): 112-127\tF. Furini, I. Ljubic, S. Martin, P. San Segundo\t\t\thttps://www.sciencedirect.com/science/article/pii/S0377221719301572?via%3Dihub\thttp://www.optimization-online.org/DB_FILE/2018/01/6417.pdf\r\n",
      "2019-01-01\tBenders Decomposition for Very Large Scale Partial Set Covering and Maximal Covering Problems\tEur. J. Oper. Res. 275(3): 882-896\tJ.F. Cordeau, F. Furini, I. Ljubic\t\t\thttps://www.sciencedirect.com/science/article/abs/pii/S0377221718310737\thttp://www.optimization-online.org/DB_HTML/2018/06/6665.html\r\n",
      "2019-01-01\tExact approaches for the directed network design problem with relays\tOmega (91): 102005\tM. Leitner, I. Ljubic, M. Riedler, M. Ruthmair\t\t\thttps://doi.org/10.1016/j.omega.2018.11.014\thttps://www.ac.tuwien.ac.at/files/tr/ac-tr-18-001.pdf\r\n",
      "2019-01-01\tInterdiction Games and Monotonicity, with Application to Knapsack Problems\tINFORMS J. Comput. 31(2): 390-410\tM. Fischetti, I. Ljubic, M. Monaci, M. Sinnl\t\t\thttps://pubsonline.informs.org/doi/abs/10.1287/ijoc.2018.0831\tpublications/interdiction_games_and_monotonicity.pdf\r\n",
      "2019-01-01\tExact Approaches for Network Design Problems with Relays\tINFORMS J. Comput. 31(1): 171-192\tM. Leitner, I. Ljubic, M. Riedler, M. Ruthmair\t\t\thttps://pubsonline.informs.org/doi/abs/10.1287/ijoc.2018.0820\thttps://www.ac.tuwien.ac.at/files/tr/ac-tr-15-003.pdf\r\n",
      "2019-01-01\tTighter MIP formulations for Barge Container Ship Routing\tOmega 82: 38-54\tL. Alfandari, T. Davidovic, F. Furini, I. Ljubic, V. Maras, S. Martin\t\t\thttp://www.sciencedirect.com/science/article/pii/S0305048317305704\t\r\n",
      "2018-01-01\tA Dual Ascent-Based Branch-and-Bound Framework for the Prize-Collecting Steiner Tree and Related Problems\tINFORMS J. Comput. 30(2): 402-420\tM. Leitner, I. Ljubic, M. Luipersbeck, M. Sinnl\t\t\thttps://pubsonline.informs.org/doi/abs/10.1287/ijoc.2017.0788\tpublications/da-TR.pdf\r\n",
      "2018-01-01\tOn the Use of Intersection Cuts for Bilevel Optimization\tMath. Program. 172(1-2): 77-103\tM. Fischetti, I. Ljubic, M. Monaci, M. Sinnl\t\t\thttp://rdcu.be/vUAs\thttp://www.dei.unipd.it/~fisch/papers/intersection_cuts_for_bilevel_optimization.pdf\r\n",
      "2018-01-01\tOuter approximation and submodular cuts for maximum capture facility location problems with random utilities\tEur. J. Oper. Res. 266(1): 46-56\tI. Ljubic, E. Moreno\t\t\thttps://doi.org/10.1016/j.ejor.2017.09.023\tpublications/MaxCapture.pdf\r\n",
      "2018-01-01\tDecomposition methods for the two-stage stochastic Steiner tree problem\tComput. Optim. Appl. 69(3): 713-752\tM. Leitner, I. Ljubic, M. Luipersbeck, M. Sinnl\t\t\thttps://link.springer.com/article/10.1007/s10589-017-9966-x\tpublications/sstp.pdf\r\n",
      "2018-01-01\tThe Connected Facility Location Polytope\tDiscret. Appl. Math. 234: 151-167\tM. Leitner, I. Ljubic, J.J. Salazar-Gonzalez, M. Sinnl\t\t\thttp://www.sciencedirect.com/science/article/pii/S0166218X16303754\tpublications/CFLP-theory.pdf\r\n",
      "2017-01-01\tA new general-purpose algorithm for mixed-integer bilevel linear programs\tOper. Res. 65(6): 1615-1637\tM. Fischetti, I. Ljubic, M. Monaci, M. Sinnl\t\t\thttp://pubsonline.informs.org/doi/abs/10.1287/opre.2017.1650\thttp://www.dei.unipd.it/~fisch/2016_bilevel_branch_and_cut.pdf\r\n",
      "2017-01-01\tAn Effective Dynamic Programming Algorithm for the Minimum-Cost Maximal Knapsack Packing Problem\tEur. J. Oper. Res. 262(2): 438-448\tF. Furini, I. Ljubic and M. Sinnl\t\t\thttp://www.sciencedirect.com/science/article/pii/S0377221717302928\thttp://homepage.univie.ac.at/markus.sinnl/wp-content/uploads/2016/09/MCMKP-techreport.pdf\r\n",
      "2017-01-01\tFeature Cluster: Recent Advances in Exact Methods for Multi-Objective Optimisation\tEur. J. Oper. Res. 260(3): 805-806\tM. Ehrgott, I. Ljubic, and S.N. Parragh\t\t\thttp://www.sciencedirect.com/science/article/pii/S0377221717301091\t\r\n",
      "2017-01-01\tRedesigning Benders Decomposition for Large Scale Facility Location\tManag. Sci. 63(7): 2146-2162\tM. Fischetti, I. Ljubic, M. Sinnl\t\t\thttp://pubsonline.informs.org/doi/abs/10.1287/mnsc.2016.2461\tpublications/ms_final_TR.pdf\r\n",
      "2017-01-01\tAn Algorithmic Framework for the Exact Solution of Tree-Star Problems\tEur. J. Oper. Res. 261(1): 54-66\tM. Leitner, I. Ljubic, J.J. Salazar-Gonzalez, and M. Sinnl\t\t\thttp://www.sciencedirect.com/science/article/pii/S0377221717301170\t\r\n",
      "2017-01-01\tA Node-Based ILP Formulation for the Node-Weighted Dominating Steiner Problem\tNetworks 69(1): 33-51\tA. Bley, I. Ljubic, O. Maurer\t\t\thttp://onlinelibrary.wiley.com/doi/10.1002/net.21722/abstract;jsessionid=1D53817C8315BE8FF3AF09205CAB80BD.f03t04\tpublications/nwst.pdf\r\n",
      "2017-01-01\tSolving Minimum-Cost Shared Arborescence Problems\tEur. J. Oper. Res. 258(3): 887-901\tE. Alvarez-Miranda, I. Ljubic, M. Luipersbeck, M. Sinnl\t\t\thttp://www.sciencedirect.com/science/article/pii/S0377221716309109\tpublications/MKLSTP-main.pdf\r\n",
      "2017-01-01\tThinning out Steiner trees: A node based model for uniform edge costs\tMath. Program. Comput. 9(2): 203-229\tM. Fischetti, M. Leitner, I. Ljubic, M. Luipersbeck, M. Monaci, M. Resch, D, Salvagnin, M. Sinnl\t\t\thttp://link.springer.com/article/10.1007/s12532-016-0111-0\t\r\n",
      "2017-01-01\tStochastic Survivable Network Design Problems: Theory and Practice\tEur. J. Oper. Res. 256(2): 333-348\tI. Ljubic, P. Mutzel, B. Zey\t\t\thttp://dx.doi.org/10.1016/j.ejor.2016.06.048\tpublications/TechReport_SSNDP.pdf\r\n",
      "2016-01-01\tBenders decomposition without separability: A computational study for capacitated facility location problems\tEur. J. Oper. Res. 253(3): 557-569\tM. Fischetti, I. Ljubic, M. Sinnl\t\t\thttp://www.sciencedirect.com/science/article/pii/S0377221716301126\thttp://www.dei.unipd.it/~fisch/papers/Benders_for_CFL.pdf\r\n",
      "2016-01-01\tA Node-Based Layered Graph Approach for the Steiner Tree Problem withRevenues, Budget and Hop-Constraints\tMath. Program. Comput. 8(4): 461-490\tM. Sinnl, I. Ljubic\t\t\thttp://link.springer.com/article/10.1007/s12532-016-0102-1\t\r\n",
      "2016-01-01\tILP heuristics and a new exact method for bi-objective 0/1 ILPs: Application to FTTx-network design\tComput. Oper. Res. 72: 128-146\tM. Leitner, I. Ljubic, M. Sinnl, A. Werner\t\t\thttp://www.sciencedirect.com/science/article/pii/S0305054816300302\thttp://homepage.univie.ac.at/markus.sinnl/wp-content/uploads/2013/09/biobjkarch-techreport.pdf\r\n",
      "2015-01-01\tThe Generalized Regenerator Location Problem\tINFORMS J. Comput. 27(2): 204-220\tS. Chen, I. Ljubic, S. Raghavan\t\t\thttp://pubsonline.informs.org/doi/abs/10.1287/ijoc.2014.0621\tpublications/GRLP.pdf\r\n",
      "2015-01-01\tThe Two-Level Diameter Constrained Spanning Tree Problem\tMath. Program. 150(1): 49-78\tL. Gouveia, M. Leitner, I. Ljubic\t\t\thttp://link.springer.com/article/10.1007%2Fs10107-013-0743-z\thttps://www.ads.tuwien.ac.at/publications/bib/pdf/leitner-12f.pdf\r\n",
      "2015-01-01\tA Computational Study of Exact Approaches for the Bi-Objective Prize-Collecting Steiner Tree Problem\tINFORMS J. Comput. 27(1): 118-134\tM. Leitner, I. Ljubic, M. Sinnl\t\t\thttp://pubsonline.informs.org/doi/abs/10.1287/ijoc.2014.0614\tpublications/bopcstp_techreport.pdf\r\n",
      "2015-01-01\tThe Recoverable Robust Two-Level Network Design Problem\tINFORMS J. Comput. 27(1): 1-19\tE. Alvarez-Miranda, I. Ljubic, S. Raghavan, P. Toth\t\t\thttp://pubsonline.informs.org/doi/abs/10.1287/ijoc.2014.0606\tpublications/RRTLND.pdf\r\n",
      "2014-01-01\tHop Constrained Steiner Trees with multiple Root Nodes\tEur. J. Oper. Res. 236(1): 100-112\tL. Gouveia, M. Leitner, I. Ljubic\t\t\thttp://www.sciencedirect.com/science/article/pii/S0377221713009466\thttps://www.ads.tuwien.ac.at/publications/bib/pdf/leitner-13a.pdf\r\n",
      "2014-01-01\tA MIP-based Heuristic Approach to solve a Prize-Collecting Local Access Network Design Problem\tEur. J. Oper. Res. 235(3): 727-739\tI. Ljubic. P. Putz, and J.J. Salazar-Gonzalez\t\t\thttp://www.sciencedirect.com/science/article/pii/S0377221713009028\tpublications/clan-preprint.pdf\r\n",
      "2013-01-01\tLayered Graph Approaches to the Hop Constrained Connected Facility Location Problem\tINFORMS J. Comput. 25(2): 256-270\tI. Ljubic, S. Gollowitzer\t\t\thttp://joc.journal.informs.org/content/25/2/256.abstract?etoc\tpublications/HCConFL_LG_IJOC.pdf\r\n",
      "2013-01-01\tLagrangian Decompositions for the Two-Level FTTx Network Design Problem\tEURO J. Comput. Optim. 1(3-4): 221-252\tA. Bley, I. Ljubic, O. Maurer\t\t\thttp://link.springer.com/article/10.1007%2Fs13675-013-0014-z\thttp://opus4.kobv.de/opus4-matheon/frontdoor/index/index/docId/1241\r\n",
      "2013-01-01\tA cutting plane algorithm for the capacitated connected facility location problem\t Comput. Optim. Appl. 55(3): 647-674\tS. Gollowitzer, B. Gendron, I. Ljubic\t\t\thttp://link.springer.com/article/10.1007%2Fs10589-013-9544-9\tpublications/CapConFL.pdf\r\n",
      "2013-01-01\tExact Approaches for Solving Robust Prize-Collecting Steiner Tree Problems\tEur. J. Oper. Res. 229(3): 599-612\tE. Alvarez-Miranda, I. Ljubic, P. Toth\t\t\thttp://www.sciencedirect.com/science/article/pii/S0377221713002701\tpublications/BC_RPCSTP.pdf\r\n",
      "2013-01-01\tA Note on the Bertsimas and Sim Algorithm for Robust Combinatorial Optimization Problems\t4OR 11(4): 349-360\tE. Alvarez-Miranda, I. Ljubic, P. Toth\t\t\thttp://link.springer.com/article/10.1007%2Fs10288-013-0231-6\tpublications/ANoteBSAlgorithm.pdf\r\n",
      "2013-01-01\tEnhanced Formulations and Branch-and-Cut for the Two Level Network Design Problem with Transition Facilities\tEur. J. Oper. Res. 225(2): 211-222\tS. Gollowitzer, L. Gouveia, I. Ljubic\t\t\thttp://www.sciencedirect.com/science/article/pii/S0377221712007199\tpublications/TLNDF-EJOR.pdf\r\n",
      "2012-01-01\tQTL Mapping Using a Memetic Algorithm with Modifications of BIC as Fitness Function\tStat. App. Gene. Mol. Bio\tF. Frommlet, I. Ljubic, H.B. Arnardóttir, M. Bogdan\t\t\thttp://www.degruyter.com/view/j/sagmb.2012.11.issue-4/1544-6115.1793/1544-6115.1793.xml\t\r\n",
      "2012-01-01\tExact Approaches to the Single-Source Network Loading Problem\tNetworks 59(1): 89-106\tI. Ljubic. P. Putz, and J.J. Salazar-Gonzalez\t\t\thttp://onlinelibrary.wiley.com/doi/10.1002/net.20481/abstract\tpublications/SSNLP.pdf\r\n",
      "2011-01-01\tMIP Models for Connected Facility Location: A Theoretical and Computational Study\tComput. Oper. Res. 38(2): 435-449 \tS. Gollowitzer, I. Ljubic\t\t\thttp://dx.doi.org/10.1016/j.cor.2010.07.002\tpublications/ConFL.pdf\r\n",
      "2010-01-01\tOrientation-based Models for {0,1,2}-Survivable Network Design: Theory and Practice\tMath. Program. 124(1-2): 413-439\tM. Chimani, M. Kandyba, I. Ljubic, and P. Mutzel\t\t\thttp://www.springerlink.com/content/628840r2qj186525/?p=4a7cc5f2a7e946b283a4f7913fdf30f0&pi=30\tpublications/sndp.pdf\r\n",
      "2010-01-01\tA Branch-and-Cut-and-Price Algorithm for Vertex Biconnectivity Augmentation\tNetworks 56(3): 169-182\tI. Ljubic\t\t\thttp://www3.interscience.wiley.com/journal/123213719/abstract\tpublications/TR_March2009.pdf\r\n",
      "2010-01-01\tThe regenerator location problem\tNetworks 55(3): 205-220\tS. Chen, I. Ljubic, and S. Raghavan\t\t\thttps://onlinelibrary.wiley.com/doi/abs/10.1002/net.20366\tpublications/rlp.pdf\r\n",
      "2009-01-01\tObtaining optimal k-cardinality trees fast\tACM J. Exp. Algorithmics 14\tM. Chimani, M. Kandyba, I. Ljubic, and P. Mutzel\t\t\thttp://portal.acm.org/citation.cfm?id=1498698.1537600&coll=ACM&dl=ACM&CFID=70808892&CFTOKEN=62583844\tpublications/kCardinalityTrees_JEA.pdf\r\n",
      "2006-01-01\tAn Algorithmic Framework for the Exact Solution of the Prize-Collecting Steiner Tree Problem\tMath. Program. 105(2-3): 427-449\tI. Ljubic, R. Weiskircher, U. Pferschy, G. Klau, P. Mutzel, and M.Fischetti\t\t\thttp://www.springerlink.com/content/bv873011l127803u/fulltext.pdf\thttp://www.ads.tuwien.ac.at/publications/bib/pdf/MPB_PCSTP.pdf\r\n",
      "2003-01-01\tA Memetic Algorithm for Minimum-Cost Vertex-Biconnectivity Augmentation of Graphs\tJ. Heuristics 9(5): 401-427\tIvana Ljubic, Günther R. Raidl\t\t\t\thttp://www.ads.tuwien.ac.at/publications/bib/pdf/ljubic-02.pdf\r\n",
      "2002-01-01\tEvolutionary local search for the edge-biconnectivity augmentation problem\tInf. Process. Lett. 82(1): 39-45\tGünther R. Raidl, Ivana Ljubic\t\t\t\thttp://www.ads.tuwien.ac.at/publications/bib/pdf/raidl-02.pdf\r\n",
      "2001-01-01\tSolving the simple plant location problem by genetic algorithm\tRAIRO Oper. Res. 35(1): 127-142\tJozef Kratica, Dusan Tosic, Vladimir Filipovic, Ivana Ljubic\t\t\t\t\t"
     ]
    }
   ],
   "source": [
    "!cat publications.tsv"
   ]
  },
  {
   "cell_type": "markdown",
   "metadata": {},
   "source": [
    "## Import pandas\n",
    "\n",
    "We are using the very handy pandas library for dataframes."
   ]
  },
  {
   "cell_type": "code",
   "execution_count": 1,
   "metadata": {},
   "outputs": [],
   "source": [
    "import pandas as pd"
   ]
  },
  {
   "cell_type": "markdown",
   "metadata": {},
   "source": [
    "## Import TSV\n",
    "\n",
    "Pandas makes this easy with the read_csv function. We are using a TSV, so we specify the separator as a tab, or `\\t`.\n",
    "\n",
    "I found it important to put this data in a tab-separated values format, because there are a lot of commas in this kind of data and comma-separated values can get messed up. However, you can modify the import statement, as pandas also has read_excel(), read_json(), and others."
   ]
  },
  {
   "cell_type": "code",
   "execution_count": 2,
   "metadata": {},
   "outputs": [
    {
     "data": {
      "text/html": [
       "<div>\n",
       "<style scoped>\n",
       "    .dataframe tbody tr th:only-of-type {\n",
       "        vertical-align: middle;\n",
       "    }\n",
       "\n",
       "    .dataframe tbody tr th {\n",
       "        vertical-align: top;\n",
       "    }\n",
       "\n",
       "    .dataframe thead th {\n",
       "        text-align: right;\n",
       "    }\n",
       "</style>\n",
       "<table border=\"1\" class=\"dataframe\">\n",
       "  <thead>\n",
       "    <tr style=\"text-align: right;\">\n",
       "      <th></th>\n",
       "      <th>pub_date</th>\n",
       "      <th>title</th>\n",
       "      <th>venue</th>\n",
       "      <th>author</th>\n",
       "      <th>excerpt</th>\n",
       "      <th>citation</th>\n",
       "      <th>paper_url</th>\n",
       "      <th>download_url</th>\n",
       "    </tr>\n",
       "  </thead>\n",
       "  <tbody>\n",
       "    <tr>\n",
       "      <th>0</th>\n",
       "      <td>2022-01-01</td>\n",
       "      <td>Comparison of Formulations for the Inventory R...</td>\n",
       "      <td>Eur. J. Oper. Res. 303(3): 997-1008</td>\n",
       "      <td>C. Archetti, I. Ljubić</td>\n",
       "      <td>NaN</td>\n",
       "      <td>NaN</td>\n",
       "      <td>https://www.sciencedirect.com/science/article/...</td>\n",
       "      <td>publications/IRP.pdf</td>\n",
       "    </tr>\n",
       "    <tr>\n",
       "      <th>1</th>\n",
       "      <td>2022-02-01</td>\n",
       "      <td>Arc routing with electric vehicles: dynamic ch...</td>\n",
       "      <td>Transportation Science</td>\n",
       "      <td>E. Fernandez, M. Leitner, I. Ljubić, and M. Ru...</td>\n",
       "      <td>NaN</td>\n",
       "      <td>NaN</td>\n",
       "      <td>https://pubsonline.informs.org/doi/10.1287/trs...</td>\n",
       "      <td>http://www.optimization-online.org/DB_HTML/201...</td>\n",
       "    </tr>\n",
       "    <tr>\n",
       "      <th>2</th>\n",
       "      <td>2021-01-01</td>\n",
       "      <td>Survey on Mixed-Integer Programming Techniques...</td>\n",
       "      <td>EURO J. Comput. Optim. 9: 100007</td>\n",
       "      <td>T. Kleinert, M. Labb, I. Ljubić, M. Schmidt</td>\n",
       "      <td>NaN</td>\n",
       "      <td>NaN</td>\n",
       "      <td>https://doi.org/10.1016/j.ejco.2021.100007</td>\n",
       "      <td>http://www.optimization-online.org/DB_HTML/202...</td>\n",
       "    </tr>\n",
       "    <tr>\n",
       "      <th>3</th>\n",
       "      <td>2021-01-01</td>\n",
       "      <td>Casting light on the hidden bilevel combinator...</td>\n",
       "      <td>Oper. Res. 70(4): 2399-2420</td>\n",
       "      <td>F. Furini, I. Ljubić, E. Malaguti, P. Paronuzzi</td>\n",
       "      <td>NaN</td>\n",
       "      <td>NaN</td>\n",
       "      <td>https://pubsonline.informs.org/doi/abs/10.1287...</td>\n",
       "      <td>http://www.optimization-online.org/DB_HTML/201...</td>\n",
       "    </tr>\n",
       "    <tr>\n",
       "      <th>4</th>\n",
       "      <td>2022-01-01</td>\n",
       "      <td>A tailored Benders decomposition approach for ...</td>\n",
       "      <td>Eur. J. Oper. Res. 299(2): 510-525</td>\n",
       "      <td>L. Alfandari, I. Ljubić, M. Melo da Silva</td>\n",
       "      <td>NaN</td>\n",
       "      <td>NaN</td>\n",
       "      <td>https://doi.org/10.1016/j.ejor.2021.06.048</td>\n",
       "      <td>http://www.optimization-online.org/DB_HTML/202...</td>\n",
       "    </tr>\n",
       "  </tbody>\n",
       "</table>\n",
       "</div>"
      ],
      "text/plain": [
       "     pub_date                                              title  \\\n",
       "0  2022-01-01  Comparison of Formulations for the Inventory R...   \n",
       "1  2022-02-01  Arc routing with electric vehicles: dynamic ch...   \n",
       "2  2021-01-01  Survey on Mixed-Integer Programming Techniques...   \n",
       "3  2021-01-01  Casting light on the hidden bilevel combinator...   \n",
       "4  2022-01-01  A tailored Benders decomposition approach for ...   \n",
       "\n",
       "                                  venue  \\\n",
       "0   Eur. J. Oper. Res. 303(3): 997-1008   \n",
       "1                Transportation Science   \n",
       "2      EURO J. Comput. Optim. 9: 100007   \n",
       "3           Oper. Res. 70(4): 2399-2420   \n",
       "4    Eur. J. Oper. Res. 299(2): 510-525   \n",
       "\n",
       "                                              author  excerpt  citation  \\\n",
       "0                             C. Archetti, I. Ljubić      NaN       NaN   \n",
       "1  E. Fernandez, M. Leitner, I. Ljubić, and M. Ru...      NaN       NaN   \n",
       "2        T. Kleinert, M. Labb, I. Ljubić, M. Schmidt      NaN       NaN   \n",
       "3    F. Furini, I. Ljubić, E. Malaguti, P. Paronuzzi      NaN       NaN   \n",
       "4          L. Alfandari, I. Ljubić, M. Melo da Silva      NaN       NaN   \n",
       "\n",
       "                                           paper_url  \\\n",
       "0  https://www.sciencedirect.com/science/article/...   \n",
       "1  https://pubsonline.informs.org/doi/10.1287/trs...   \n",
       "2         https://doi.org/10.1016/j.ejco.2021.100007   \n",
       "3  https://pubsonline.informs.org/doi/abs/10.1287...   \n",
       "4         https://doi.org/10.1016/j.ejor.2021.06.048   \n",
       "\n",
       "                                        download_url  \n",
       "0                               publications/IRP.pdf  \n",
       "1  http://www.optimization-online.org/DB_HTML/201...  \n",
       "2  http://www.optimization-online.org/DB_HTML/202...  \n",
       "3  http://www.optimization-online.org/DB_HTML/201...  \n",
       "4  http://www.optimization-online.org/DB_HTML/202...  "
      ]
     },
     "execution_count": 2,
     "metadata": {},
     "output_type": "execute_result"
    }
   ],
   "source": [
    "publications = pd.read_csv(\"publications.tsv\", sep=\"\\t\", header=0)\n",
    "publications.head()\n"
   ]
  },
  {
   "cell_type": "markdown",
   "metadata": {},
   "source": [
    "## Escape special characters\n",
    "\n",
    "YAML is very picky about how it takes a valid string, so we are replacing single and double quotes (and ampersands) with their HTML encoded equivilents. This makes them look not so readable in raw format, but they are parsed and rendered nicely."
   ]
  },
  {
   "cell_type": "code",
   "execution_count": 3,
   "metadata": {},
   "outputs": [],
   "source": [
    "html_escape_table = {\n",
    "    \"&\": \"&amp;\",\n",
    "    '\"': \"&quot;\",\n",
    "    \"'\": \"&apos;\"\n",
    "    }\n",
    "\n",
    "def html_escape(text):\n",
    "    \"\"\"Produce entities within text.\"\"\"\n",
    "    return \"\".join(html_escape_table.get(c,c) for c in text)"
   ]
  },
  {
   "cell_type": "markdown",
   "metadata": {},
   "source": [
    "## Creating the markdown files\n",
    "\n",
    "This is where the heavy lifting is done. This loops through all the rows in the TSV dataframe, then starts to concatentate a big string (```md```) that contains the markdown for each type. It does the YAML metadata first, then does the description for the individual page."
   ]
  },
  {
   "cell_type": "code",
   "execution_count": 4,
   "metadata": {},
   "outputs": [
    {
     "data": {
      "text/plain": [
       "'a-b'"
      ]
     },
     "execution_count": 4,
     "metadata": {},
     "output_type": "execute_result"
    }
   ],
   "source": [
    "\n",
    "'-'.join([i for i in 'A b'.lower().split()])"
   ]
  },
  {
   "cell_type": "code",
   "execution_count": 6,
   "metadata": {},
   "outputs": [],
   "source": [
    "import os\n",
    "for row, item in publications.iterrows():\n",
    "    \n",
    "#     > add url_slug creation here\n",
    "#     > the download url could contain pdf location of full url\n",
    "    \n",
    "    url_slug = '-'.join([i for i in item.title.lower().split()])\n",
    "    \n",
    "    md_filename = str(item.pub_date) + \"-\" + url_slug + \".md\"\n",
    "    html_filename = str(item.pub_date) + \"-\" + url_slug\n",
    "    year = item.pub_date[:4]\n",
    "    \n",
    "    ## YAML variables\n",
    "    \n",
    "    md = \"---\\ntitle: \\\"\"   + item.title + '\"\\n'\n",
    "    \n",
    "    md += \"\"\"collection: publications\"\"\"\n",
    "    \n",
    "    md += \"\"\"\\ntype: journal\"\"\"\n",
    "    \n",
    "    md += \"\\nauthor: '\" + html_escape(item.author) + \"'\"\n",
    "    \n",
    "    md += \"\"\"\\npermalink: /publication/\"\"\" + html_filename\n",
    "    \n",
    "    if len(str(item.excerpt)) > 5:\n",
    "        md += \"\\nexcerpt: '\" + html_escape(item.excerpt) + \"'\"\n",
    "    \n",
    "    md += \"\\ndate: \" + str(item.pub_date) \n",
    "    \n",
    "    md += \"\\nvenue: '\" + html_escape(item.venue) + \"'\"\n",
    "    \n",
    "    if len(str(item.paper_url)) > 5:\n",
    "        md += \"\\npaperurl: '\" + item.paper_url + \"'\"\n",
    "    if len(str(item.citation)) > 5:\n",
    "        md += \"\\ncitation: '\" + html_escape(item.citation) + \"'\"\n",
    "    \n",
    "    md += \"\\n---\"\n",
    "    \n",
    "    ## Markdown description for individual page\n",
    "        \n",
    "    if len(str(item.excerpt)) > 5:\n",
    "        md += \"\\n\" + html_escape(item.excerpt) + \"\\n\"\n",
    "    \n",
    "    if len(str(item.paper_url)) > 5:\n",
    "        md += \"\\n[View paper here](\" + item.paper_url + \")\\n\" \n",
    "        \n",
    "    if len(str(item.download_url)) > 5:\n",
    "        if 'www' in str(item.download_url):\n",
    "            md += \"\\n[Download paper here](\" + item.download_url + \")\\n\" \n",
    "        else:\n",
    "            md += \"\\n[Download paper here]({{site.url}}/docs/\" + item.download_url + \")\\n\" \n",
    "        \n",
    "    if len(str(item.citation)) > 5:\n",
    "        md += \"\\nRecommended citation: \" + item.citation\n",
    "    \n",
    "    md_filename = os.path.basename(md_filename)\n",
    "       \n",
    "    with open(\"../_publications/\" + md_filename, 'w') as f:\n",
    "        f.write(md)"
   ]
  },
  {
   "cell_type": "markdown",
   "metadata": {},
   "source": [
    "These files are in the publications directory, one directory below where we're working from."
   ]
  },
  {
   "cell_type": "code",
   "execution_count": 16,
   "metadata": {
    "scrolled": true
   },
   "outputs": [
    {
     "name": "stdout",
     "output_type": "stream",
     "text": [
      "1-ilps:-application-to-fttx-network-design.md\r\n",
      "2001-01-01-solving-the-simple-plant-location-problem-by-genetic-algorithm.md\r\n",
      "2002-01-01-evolutionary-local-search-for-the-edge-biconnectivity-augmentation-problem.md\r\n",
      "2003-01-01-a-memetic-algorithm-for-minimum-cost-vertex-biconnectivity-augmentation-of-graphs.md\r\n",
      "2006-01-01-an-algorithmic-framework-for-the-exact-solution-of-the-prize-collecting-steiner-tree-problem.md\r\n",
      "2009-01-01-obtaining-optimal-k-cardinality-trees-fast.md\r\n",
      "2010-01-01-a-branch-and-cut-and-price-algorithm-for-vertex-biconnectivity-augmentation.md\r\n",
      "2010-01-01-orientation-based-models-for-{0,1,2}-survivable-network-design:-theory-and-practice.md\r\n",
      "2010-01-01-the-regenerator-location-problem.md\r\n",
      "2011-01-01-mip-models-for-connected-facility-location:-a-theoretical-and-computational-study.md\r\n",
      "2012-01-01-exact-approaches-to-the-single-source-network-loading-problem.md\r\n",
      "2012-01-01-qtl-mapping-using-a-memetic-algorithm-with-modifications-of-bic-as-fitness-function.md\r\n",
      "2013-01-01-a-cutting-plane-algorithm-for-the-capacitated-connected-facility-location-problem.md\r\n",
      "2013-01-01-a-note-on-the-bertsimas-and-sim-algorithm-for-robust-combinatorial-optimization-problems.md\r\n",
      "2013-01-01-enhanced-formulations-and-branch-and-cut-for-the-two-level-network-design-problem-with-transition-facilities.md\r\n",
      "2013-01-01-exact-approaches-for-solving-robust-prize-collecting-steiner-tree-problems.md\r\n",
      "2013-01-01-lagrangian-decompositions-for-the-two-level-fttx-network-design-problem.md\r\n",
      "2013-01-01-layered-graph-approaches-to-the-hop-constrained-connected-facility-location-problem.md\r\n",
      "2014-01-01-a-mip-based-heuristic-approach-to-solve-a-prize-collecting-local-access-network-design-problem.md\r\n",
      "2014-01-01-hop-constrained-steiner-trees-with-multiple-root-nodes.md\r\n",
      "2015-01-01-a-computational-study-of-exact-approaches-for-the-bi-objective-prize-collecting-steiner-tree-problem.md\r\n",
      "2015-01-01-the-generalized-regenerator-location-problem.md\r\n",
      "2015-01-01-the-recoverable-robust-two-level-network-design-problem.md\r\n",
      "2015-01-01-the-two-level-diameter-constrained-spanning-tree-problem.md\r\n",
      "2016-01-01-a-node-based-layered-graph-approach-for-the-steiner-tree-problem-withrevenues,-budget-and-hop-constraints.md\r\n",
      "2016-01-01-benders-decomposition-without-separability:-a-computational-study-for-capacitated-facility-location-problems.md\r\n",
      "2017-01-01-a-new-general-purpose-algorithm-for-mixed-integer-bilevel-linear-programs.md\r\n",
      "2017-01-01-a-node-based-ilp-formulation-for-the-node-weighted-dominating-steiner-problem.md\r\n",
      "2017-01-01-an-algorithmic-framework-for-the-exact-solution-of-tree-star-problems.md\r\n",
      "2017-01-01-an-effective-dynamic-programming-algorithm-for-the-minimum-cost-maximal-knapsack-packing-problem.md\r\n",
      "2017-01-01-feature-cluster:-recent-advances-in-exact-methods-for-multi-objective-optimisation.md\r\n",
      "2017-01-01-redesigning-benders-decomposition-for-large-scale-facility-location.md\r\n",
      "2017-01-01-solving-minimum-cost-shared-arborescence-problems.md\r\n",
      "2017-01-01-stochastic-survivable-network-design-problems:-theory-and-practice.md\r\n",
      "2017-01-01-thinning-out-steiner-trees:-a-node-based-model-for-uniform-edge-costs.md\r\n",
      "2018-01-01-a-dual-ascent-based-branch-and-bound-framework-for-the-prize-collecting-steiner-tree-and-related-problems.md\r\n",
      "2018-01-01-decomposition-methods-for-the-two-stage-stochastic-steiner-tree-problem.md\r\n",
      "2018-01-01-on-the-use-of-intersection-cuts-for-bilevel-optimization.md\r\n",
      "2018-01-01-outer-approximation-and-submodular-cuts-for-maximum-capture-facility-location-problems-with-random-utilities.md\r\n",
      "2018-01-01-the-connected-facility-location-polytope.md\r\n",
      "2019-01-01-a-new-branch-and-bound-algorithm-for-the-maximum-edge-weighted-clique-problem.md\r\n",
      "2019-01-01-benders-decomposition-for-very-large-scale-partial-set-covering-and-maximal-covering-problems.md\r\n",
      "2019-01-01-exact-approaches-for-network-design-problems-with-relays.md\r\n",
      "2019-01-01-exact-approaches-for-the-directed-network-design-problem-with-relays.md\r\n",
      "2019-01-01-interdiction-games-and-monotonicity,-with-application-to-knapsack-problems.md\r\n",
      "2019-01-01-the-incremental-connected-facility-location-problem.md\r\n",
      "2019-01-01-the-maximum-clique-interdiction-problem.md\r\n",
      "2019-01-01-tighter-mip-formulations-for-barge-container-ship-routing.md\r\n",
      "2020-01-01-a-polyhedral-study-of-the-diameter-constrained-minimum-spanning-tree-problem.md\r\n",
      "2020-01-01-location-of-charging-stations-in-electric-car-sharing-systems.md\r\n",
      "2020-01-01-on-integer-and-bilevel-formulations-for-the-k-vertex-cut-problem.md\r\n",
      "2020-01-01-preface:-decomposition-methods-for-hard-optimization-problems.md\r\n",
      "2021-01-01-a-branch-and-cut-algorithm-for-the-edge-interdiction-clique-problem.md\r\n",
      "2021-01-01-an-exact-method-for-assortment-optimization-under-the-nested-logit-model.md\r\n",
      "2021-01-01-benders-decomposition-for-a-node-capacitated-virtual-network-functions-placement-and-routing-problem.md\r\n",
      "2021-01-01-casting-light-on-the-hidden-bilevel-combinatorial-structure-of-the-capacitated-vertex-separator-problem.md\r\n",
      "2021-01-01-solving-steiner-trees---recent-advances,-challenges-and-perspectives.md\r\n",
      "2021-01-01-survey-on-mixed-integer-programming-techniques-in-bilevel-optimization.md\r\n",
      "2021-01-01-the-generalized-reserve-set-covering-problem-with-connectivity-and-buffer-requirements.md\r\n",
      "2022-01-01-a-tailored-benders-decomposition-approach-for-last-mile-delivery-with-autonomous-robots.md\r\n",
      "2022-01-01-budgeting-in-international-humanitarian-organizations.md\r\n",
      "2022-01-01-comparison-of-formulations-for-the-inventory-routing-problem.md\r\n",
      "2022-02-01-arc-routing-with-electric-vehicles:-dynamic-charging-and-speed-dependent-energy-consumption.md\r\n"
     ]
    }
   ],
   "source": [
    "!ls ../_publications/"
   ]
  },
  {
   "cell_type": "code",
   "execution_count": 17,
   "metadata": {},
   "outputs": [
    {
     "name": "stdout",
     "output_type": "stream",
     "text": [
      "---\r\n",
      "title: \"ILP heuristics and a new exact method for bi-objective 0/1 ILPs: Application to FTTx-network design\"\r\n",
      "collection: publications\r\n",
      "author: 'M. Leitner, I. Ljubic, M. Sinnl, A. Werner'\r\n",
      "permalink: /publication/2016-01-01-ilp-heuristics-and-a-new-exact-method-for-bi-objective-0/1-ilps:-application-to-fttx-network-design\r\n",
      "date: 2016-01-01\r\n",
      "venue: 'Comput. Oper. Res. 72: 128-146'\r\n",
      "paperurl: 'http://www.sciencedirect.com/science/article/pii/S0305054816300302'\r\n",
      "---\r\n",
      "[View paper here](http://www.sciencedirect.com/science/article/pii/S0305054816300302)\r\n",
      "\r\n",
      "[Download paper here]({{site.url}}/docs/http://homepage.univie.ac.at/markus.sinnl/wp-content/uploads/2013/09/biobjkarch-techreport.pdf)\r\n"
     ]
    }
   ],
   "source": [
    "!cat ../_publications/1-ilps:-application-to-fttx-network-design.md"
   ]
  },
  {
   "cell_type": "code",
   "execution_count": null,
   "metadata": {
    "collapsed": true
   },
   "outputs": [],
   "source": [
    "2016-01-01-ilp-heuristics-and-a-new-exact-method-for-bi-objective-ilps-application-to-fttx-network-design.md"
   ]
  },
  {
   "cell_type": "code",
   "execution_count": 18,
   "metadata": {},
   "outputs": [
    {
     "data": {
      "text/plain": [
       "'ilp heuristics and a new exact method for bi-objective 0/1 ilps: application to fttx-network design'"
      ]
     },
     "execution_count": 18,
     "metadata": {},
     "output_type": "execute_result"
    }
   ],
   "source": []
  },
  {
   "cell_type": "code",
   "execution_count": 19,
   "metadata": {},
   "outputs": [
    {
     "data": {
      "text/plain": [
       "'ilp-heuristics-and-a-new-exact-method-for-bi-objective-0/1-ilps:-application-to-fttx-network-design'"
      ]
     },
     "execution_count": 19,
     "metadata": {},
     "output_type": "execute_result"
    }
   ],
   "source": [
    "'-'.join([i for i in \"ILP heuristics and a new exact method for bi-objective 0/1 ILPs: Application to FTTx-network design\".lower().split()])"
   ]
  },
  {
   "cell_type": "code",
   "execution_count": null,
   "metadata": {},
   "outputs": [],
   "source": []
  }
 ],
 "metadata": {
  "kernelspec": {
   "display_name": "Python 3 (ipykernel)",
   "language": "python",
   "name": "python3"
  },
  "language_info": {
   "codemirror_mode": {
    "name": "ipython",
    "version": 3
   },
   "file_extension": ".py",
   "mimetype": "text/x-python",
   "name": "python",
   "nbconvert_exporter": "python",
   "pygments_lexer": "ipython3",
   "version": "3.8.8"
  }
 },
 "nbformat": 4,
 "nbformat_minor": 1
}
