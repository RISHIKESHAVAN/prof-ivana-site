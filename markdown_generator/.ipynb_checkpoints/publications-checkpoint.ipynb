{
 "cells": [
  {
   "cell_type": "markdown",
   "metadata": {},
   "source": [
    "# Publications markdown generator for academicpages\n",
    "\n",
    "Takes a TSV of publications with metadata and converts them for use with [academicpages.github.io](academicpages.github.io). This is an interactive Jupyter notebook ([see more info here](http://jupyter-notebook-beginner-guide.readthedocs.io/en/latest/what_is_jupyter.html)). The core python code is also in `publications.py`. Run either from the `markdown_generator` folder after replacing `publications.tsv` with one containing your data.\n",
    "\n",
    "TODO: Make this work with BibTex and other databases of citations, rather than Stuart's non-standard TSV format and citation style.\n"
   ]
  },
  {
   "cell_type": "markdown",
   "metadata": {},
   "source": [
    "## Data format\n",
    "\n",
    "The TSV needs to have the following columns: pub_date, title, venue, excerpt, citation, site_url, and paper_url, with a header at the top. \n",
    "\n",
    "- `excerpt` and `paper_url` can be blank, but the others must have values. \n",
    "- `pub_date` must be formatted as YYYY-MM-DD.\n",
    "- `url_slug` will be the descriptive part of the .md file and the permalink URL for the page about the paper. The .md file will be `YYYY-MM-DD-[url_slug].md` and the permalink will be `https://[yourdomain]/publications/YYYY-MM-DD-[url_slug]`\n",
    "\n",
    "This is how the raw file looks (it doesn't look pretty, use a spreadsheet or other program to edit and create)."
   ]
  },
  {
   "cell_type": "code",
   "execution_count": 5,
   "metadata": {},
   "outputs": [
    {
     "name": "stdout",
     "output_type": "stream",
     "text": [
      "pub_date\ttitle\tvenue\tauthor\texcerpt\tcitation\tpaper_url\tdownload_url\r\n",
      "2022-01-01\tComparison of Formulations for the Inventory Routing Problem\tEuropean Journal of Operational Research\tC. Archetti, I. Ljubic\t\t\thttps://www.sciencedirect.com/science/article/pii/S0377221721011073\tpublications/IRP.pdf\r\n",
      "2022-02-01\tArc routing with electric vehicles: dynamic charging and speed-dependent energy consumption\tTransportation Science\tE. Fern�ndez, M. Leitner, I. Ljubic, and M. Ruthmair\t\t\thttps://pubsonline.informs.org/doi/10.1287/trsc.2022.1126\thttp://www.optimization-online.org/DB_HTML/2019/06/7262.html\r\n",
      "2021-01-01\tSurvey on Mixed-Integer Programming Techniques in Bilevel Optimization\tEuropean Journal on Computational Optimization, Volume 9\tT. Kleinert, M. Labb, I. Ljubic, M. Schmidt\t\t\thttps://doi.org/10.1016/j.ejco.2021.100007\thttp://www.optimization-online.org/DB_HTML/2021/01/8187.html\r\n",
      "2021-01-01\tCasting light on the hidden bilevel combinatorial structure of the capacitated vertex separator problem\tOperations Research\tF. Furini, I. Ljubic, E. Malaguti, P. Paronuzzi\t\t\thttps://pubsonline.informs.org/doi/abs/10.1287/opre.2021.2110\thttp://www.optimization-online.org/DB_HTML/2019/09/7389.html\r\n",
      "2022-01-01\tA tailored Benders decomposition approach for last-mile delivery with autonomous robots\tEuropean Journal of Operational Research,299(2): 510-525\tL. Alfandari, I. Ljubic, M. Melo da Silva\t\t\thttps://doi.org/10.1016/j.ejor.2021.06.048\thttp://www.optimization-online.org/DB_HTML/2021/03/8279.html\r\n",
      "2022-01-01\tBudgeting in International Humanitarian Organizations\tManufacturing &amp; Service Operations Management,24:1562-1577\tM. Keshvari Fard, I. Ljubic, F. Papier\t\t\thttps://pubsonline.informs.org/doi/10.1287/msom.2021.1016\thttps://papers.ssrn.com/sol3/papers.cfm?abstract_id=3464619\r\n",
      "2021-01-01\tA branch-and-cut algorithm for the Edge Interdiction Clique Problem\tEuropean Journal of Operational Research 294(1): 54-69\tF. Furini, I. Ljubic, P. San Segundo, Y. Zhao\t\t\thttps://doi.org/10.1016/j.ejor.2021.01.030\thttp://www.optimization-online.org/DB_HTML/2020/08/7975.html\r\n",
      "2021-01-01\tBenders decomposition for a node-capacitated virtual network functions placement and routing problem\tComputers and Operations Research, Volume 130\tI. Ljubic, A. Mouaci, N. Perrot, E. Gourdin\t\t\thttps://doi.org/10.1016/j.cor.2021.105227\t\r\n",
      "2021-01-01\tAn Exact Method for Assortment Optimization under the Nested Logit Model\tEuropean Journal of Operational Research 291(3): 830-845\tL. Alfandari, A. Hassanzadeh, I. Ljubic\t\t\thttps://doi.org/10.1016/j.ejor.2020.12.007\tpublications/AOPNL.pdf\r\n",
      "2021-01-01\tSolving Steiner Trees - Recent Advances, Challenges and Perspectives\tNetworks 77(2):177-204\tI. Ljubic\t\t\thttps://doi.org/10.1002/net.22005\tpublications/NetworksSI.pdf\r\n",
      "2021-01-01\tThe Generalized Reserve Set Covering Problem with Connectivity and Buffer Requirements\tEuropean Journal of Operational Research 289(3):1013-1029\tE. Alvarez-Miranda, M. Goycoolea, I. Ljubic, M. Sinnl\t\t\thttps://www.sciencedirect.com/science/article/abs/pii/S0377221719305818\tpublications/grsccb-techreport.pdf"
     ]
    }
   ],
   "source": [
    "!cat publications.tsv"
   ]
  },
  {
   "cell_type": "markdown",
   "metadata": {},
   "source": [
    "## Import pandas\n",
    "\n",
    "We are using the very handy pandas library for dataframes."
   ]
  },
  {
   "cell_type": "code",
   "execution_count": 1,
   "metadata": {},
   "outputs": [],
   "source": [
    "import pandas as pd"
   ]
  },
  {
   "cell_type": "markdown",
   "metadata": {},
   "source": [
    "## Import TSV\n",
    "\n",
    "Pandas makes this easy with the read_csv function. We are using a TSV, so we specify the separator as a tab, or `\\t`.\n",
    "\n",
    "I found it important to put this data in a tab-separated values format, because there are a lot of commas in this kind of data and comma-separated values can get messed up. However, you can modify the import statement, as pandas also has read_excel(), read_json(), and others."
   ]
  },
  {
   "cell_type": "code",
   "execution_count": 2,
   "metadata": {},
   "outputs": [
    {
     "data": {
      "text/html": [
       "<div>\n",
       "<style scoped>\n",
       "    .dataframe tbody tr th:only-of-type {\n",
       "        vertical-align: middle;\n",
       "    }\n",
       "\n",
       "    .dataframe tbody tr th {\n",
       "        vertical-align: top;\n",
       "    }\n",
       "\n",
       "    .dataframe thead th {\n",
       "        text-align: right;\n",
       "    }\n",
       "</style>\n",
       "<table border=\"1\" class=\"dataframe\">\n",
       "  <thead>\n",
       "    <tr style=\"text-align: right;\">\n",
       "      <th></th>\n",
       "      <th>pub_date</th>\n",
       "      <th>title</th>\n",
       "      <th>venue</th>\n",
       "      <th>author</th>\n",
       "      <th>excerpt</th>\n",
       "      <th>citation</th>\n",
       "      <th>paper_url</th>\n",
       "      <th>download_url</th>\n",
       "    </tr>\n",
       "  </thead>\n",
       "  <tbody>\n",
       "    <tr>\n",
       "      <th>0</th>\n",
       "      <td>2022-01-01</td>\n",
       "      <td>Comparison of Formulations for the Inventory R...</td>\n",
       "      <td>Eur. J. Oper. Res. 303(3): 997-1008</td>\n",
       "      <td>C. Archetti, I. Ljubic</td>\n",
       "      <td>NaN</td>\n",
       "      <td>NaN</td>\n",
       "      <td>https://www.sciencedirect.com/science/article/...</td>\n",
       "      <td>publications/IRP.pdf</td>\n",
       "    </tr>\n",
       "    <tr>\n",
       "      <th>1</th>\n",
       "      <td>2022-02-01</td>\n",
       "      <td>Arc routing with electric vehicles: dynamic ch...</td>\n",
       "      <td>Transportation Science</td>\n",
       "      <td>E. Fernandez, M. Leitner, I. Ljubic, and M. Ru...</td>\n",
       "      <td>NaN</td>\n",
       "      <td>NaN</td>\n",
       "      <td>https://pubsonline.informs.org/doi/10.1287/trs...</td>\n",
       "      <td>http://www.optimization-online.org/DB_HTML/201...</td>\n",
       "    </tr>\n",
       "    <tr>\n",
       "      <th>2</th>\n",
       "      <td>2021-01-01</td>\n",
       "      <td>Survey on Mixed-Integer Programming Techniques...</td>\n",
       "      <td>EURO J. Comput. Optim. 9: 100007</td>\n",
       "      <td>T. Kleinert, M. Labb, I. Ljubic, M. Schmidt</td>\n",
       "      <td>NaN</td>\n",
       "      <td>NaN</td>\n",
       "      <td>https://doi.org/10.1016/j.ejco.2021.100007</td>\n",
       "      <td>http://www.optimization-online.org/DB_HTML/202...</td>\n",
       "    </tr>\n",
       "    <tr>\n",
       "      <th>3</th>\n",
       "      <td>2021-01-01</td>\n",
       "      <td>Casting light on the hidden bilevel combinator...</td>\n",
       "      <td>Oper. Res. 70(4): 2399-2420</td>\n",
       "      <td>F. Furini, I. Ljubic, E. Malaguti, P. Paronuzzi</td>\n",
       "      <td>NaN</td>\n",
       "      <td>NaN</td>\n",
       "      <td>https://pubsonline.informs.org/doi/abs/10.1287...</td>\n",
       "      <td>http://www.optimization-online.org/DB_HTML/201...</td>\n",
       "    </tr>\n",
       "    <tr>\n",
       "      <th>4</th>\n",
       "      <td>2022-01-01</td>\n",
       "      <td>A tailored Benders decomposition approach for ...</td>\n",
       "      <td>Eur. J. Oper. Res. 299(2): 510-525</td>\n",
       "      <td>L. Alfandari, I. Ljubic, M. Melo da Silva</td>\n",
       "      <td>NaN</td>\n",
       "      <td>NaN</td>\n",
       "      <td>https://doi.org/10.1016/j.ejor.2021.06.048</td>\n",
       "      <td>http://www.optimization-online.org/DB_HTML/202...</td>\n",
       "    </tr>\n",
       "  </tbody>\n",
       "</table>\n",
       "</div>"
      ],
      "text/plain": [
       "     pub_date                                              title  \\\n",
       "0  2022-01-01  Comparison of Formulations for the Inventory R...   \n",
       "1  2022-02-01  Arc routing with electric vehicles: dynamic ch...   \n",
       "2  2021-01-01  Survey on Mixed-Integer Programming Techniques...   \n",
       "3  2021-01-01  Casting light on the hidden bilevel combinator...   \n",
       "4  2022-01-01  A tailored Benders decomposition approach for ...   \n",
       "\n",
       "                                  venue  \\\n",
       "0   Eur. J. Oper. Res. 303(3): 997-1008   \n",
       "1                Transportation Science   \n",
       "2      EURO J. Comput. Optim. 9: 100007   \n",
       "3           Oper. Res. 70(4): 2399-2420   \n",
       "4    Eur. J. Oper. Res. 299(2): 510-525   \n",
       "\n",
       "                                              author  excerpt  citation  \\\n",
       "0                             C. Archetti, I. Ljubic      NaN       NaN   \n",
       "1  E. Fernandez, M. Leitner, I. Ljubic, and M. Ru...      NaN       NaN   \n",
       "2        T. Kleinert, M. Labb, I. Ljubic, M. Schmidt      NaN       NaN   \n",
       "3    F. Furini, I. Ljubic, E. Malaguti, P. Paronuzzi      NaN       NaN   \n",
       "4          L. Alfandari, I. Ljubic, M. Melo da Silva      NaN       NaN   \n",
       "\n",
       "                                           paper_url  \\\n",
       "0  https://www.sciencedirect.com/science/article/...   \n",
       "1  https://pubsonline.informs.org/doi/10.1287/trs...   \n",
       "2         https://doi.org/10.1016/j.ejco.2021.100007   \n",
       "3  https://pubsonline.informs.org/doi/abs/10.1287...   \n",
       "4         https://doi.org/10.1016/j.ejor.2021.06.048   \n",
       "\n",
       "                                        download_url  \n",
       "0                               publications/IRP.pdf  \n",
       "1  http://www.optimization-online.org/DB_HTML/201...  \n",
       "2  http://www.optimization-online.org/DB_HTML/202...  \n",
       "3  http://www.optimization-online.org/DB_HTML/201...  \n",
       "4  http://www.optimization-online.org/DB_HTML/202...  "
      ]
     },
     "execution_count": 2,
     "metadata": {},
     "output_type": "execute_result"
    }
   ],
   "source": [
    "publications = pd.read_csv(\"publications.tsv\", sep=\"\\t\", header=0)\n",
    "publications.head()\n"
   ]
  },
  {
   "cell_type": "markdown",
   "metadata": {},
   "source": [
    "## Escape special characters\n",
    "\n",
    "YAML is very picky about how it takes a valid string, so we are replacing single and double quotes (and ampersands) with their HTML encoded equivilents. This makes them look not so readable in raw format, but they are parsed and rendered nicely."
   ]
  },
  {
   "cell_type": "code",
   "execution_count": 3,
   "metadata": {},
   "outputs": [],
   "source": [
    "html_escape_table = {\n",
    "    \"&\": \"&amp;\",\n",
    "    '\"': \"&quot;\",\n",
    "    \"'\": \"&apos;\"\n",
    "    }\n",
    "\n",
    "def html_escape(text):\n",
    "    \"\"\"Produce entities within text.\"\"\"\n",
    "    return \"\".join(html_escape_table.get(c,c) for c in text)"
   ]
  },
  {
   "cell_type": "markdown",
   "metadata": {},
   "source": [
    "## Creating the markdown files\n",
    "\n",
    "This is where the heavy lifting is done. This loops through all the rows in the TSV dataframe, then starts to concatentate a big string (```md```) that contains the markdown for each type. It does the YAML metadata first, then does the description for the individual page."
   ]
  },
  {
   "cell_type": "code",
   "execution_count": 4,
   "metadata": {},
   "outputs": [
    {
     "data": {
      "text/plain": [
       "'a-b'"
      ]
     },
     "execution_count": 4,
     "metadata": {},
     "output_type": "execute_result"
    }
   ],
   "source": [
    "\n",
    "'-'.join([i for i in 'A b'.lower().split()])"
   ]
  },
  {
   "cell_type": "code",
   "execution_count": 5,
   "metadata": {},
   "outputs": [],
   "source": [
    "import os\n",
    "for row, item in publications.iterrows():\n",
    "    \n",
    "#     > add url_slug creation here\n",
    "#     > the download url could contain pdf location of full url\n",
    "    \n",
    "    url_slug = '-'.join([i for i in item.title.lower().split()])\n",
    "    \n",
    "    md_filename = str(item.pub_date) + \"-\" + url_slug + \".md\"\n",
    "    html_filename = str(item.pub_date) + \"-\" + url_slug\n",
    "    year = item.pub_date[:4]\n",
    "    \n",
    "    ## YAML variables\n",
    "    \n",
    "    md = \"---\\ntitle: \\\"\"   + item.title + '\"\\n'\n",
    "    \n",
    "    md += \"\"\"collection: publications\"\"\"\n",
    "    \n",
    "    md += \"\\nauthor: '\" + html_escape(item.author) + \"'\"\n",
    "    \n",
    "    md += \"\"\"\\npermalink: /publication/\"\"\" + html_filename\n",
    "    \n",
    "    if len(str(item.excerpt)) > 5:\n",
    "        md += \"\\nexcerpt: '\" + html_escape(item.excerpt) + \"'\"\n",
    "    \n",
    "    md += \"\\ndate: \" + str(item.pub_date) \n",
    "    \n",
    "    md += \"\\nvenue: '\" + html_escape(item.venue) + \"'\"\n",
    "    \n",
    "    if len(str(item.paper_url)) > 5:\n",
    "        md += \"\\npaperurl: '\" + item.paper_url + \"'\"\n",
    "    if len(str(item.citation)) > 5:\n",
    "        md += \"\\ncitation: '\" + html_escape(item.citation) + \"'\"\n",
    "    \n",
    "    md += \"\\n---\"\n",
    "    \n",
    "    ## Markdown description for individual page\n",
    "        \n",
    "    if len(str(item.excerpt)) > 5:\n",
    "        md += \"\\n\" + html_escape(item.excerpt) + \"\\n\"\n",
    "    \n",
    "    if len(str(item.paper_url)) > 5:\n",
    "        md += \"\\n[View paper here](\" + item.paper_url + \")\\n\" \n",
    "        \n",
    "    if len(str(item.download_url)) > 5:\n",
    "        if 'www' in str(item.download_url):\n",
    "            md += \"\\n[Download paper here](\" + item.download_url + \")\\n\" \n",
    "        else:\n",
    "            md += \"\\n[Download paper here]({{site.url}}/docs/\" + item.download_url + \")\\n\" \n",
    "        \n",
    "    if len(str(item.citation)) > 5:\n",
    "        md += \"\\nRecommended citation: \" + item.citation\n",
    "    \n",
    "    md_filename = os.path.basename(md_filename)\n",
    "       \n",
    "    with open(\"../_publications/\" + md_filename, 'w') as f:\n",
    "        f.write(md)"
   ]
  },
  {
   "cell_type": "markdown",
   "metadata": {},
   "source": [
    "These files are in the publications directory, one directory below where we're working from."
   ]
  },
  {
   "cell_type": "code",
   "execution_count": 6,
   "metadata": {},
   "outputs": [
    {
     "data": {
      "text/plain": [
       "True"
      ]
     },
     "execution_count": 6,
     "metadata": {},
     "output_type": "execute_result"
    }
   ],
   "source": [
    "'pdf' not in 'adsf'"
   ]
  },
  {
   "cell_type": "code",
   "execution_count": 7,
   "metadata": {
    "scrolled": true
   },
   "outputs": [
    {
     "name": "stdout",
     "output_type": "stream",
     "text": [
      "2017-01-01-a-new-general-purpose-algorithm-for-mixed-integer-bilevel-linear-programs.md\r\n",
      "2017-01-01-a-node-based-ilp-formulation-for-the-node-weighted-dominating-steiner-problem.md\r\n",
      "2017-01-01-an-algorithmic-framework-for-the-exact-solution-of-tree-star-problems.md\r\n",
      "2017-01-01-an-effective-dynamic-programming-algorithm-for-the-minimum-cost-maximal-knapsack-packing-problem.md\r\n",
      "2017-01-01-feature-cluster:-recent-advances-in-exact-methods-for-multi-objective-optimisation.md\r\n",
      "2017-01-01-redesigning-benders-decomposition-for-large-scale-facility-location.md\r\n",
      "2017-01-01-solving-minimum-cost-shared-arborescence-problems.md\r\n",
      "2017-01-01-stochastic-survivable-network-design-problems:-theory-and-practice.md\r\n",
      "2017-01-01-thinning-out-steiner-trees:-a-node-based-model-for-uniform-edge-costs.md\r\n",
      "2018-01-01-a-dual-ascent-based-branch-and-bound-framework-for-the-prize-collecting-steiner-tree-and-related-problems.md\r\n",
      "2018-01-01-decomposition-methods-for-the-two-stage-stochastic-steiner-tree-problem.md\r\n",
      "2018-01-01-on-the-use-of-intersection-cuts-for-bilevel-optimization.md\r\n",
      "2018-01-01-outer-approximation-and-submodular-cuts-for-maximum-capture-facility-location-problems-with-random-utilities.md\r\n",
      "2018-01-01-the-connected-facility-location-polytope.md\r\n",
      "2019-01-01-a-new-branch-and-bound-algorithm-for-the-maximum-edge-weighted-clique-problem.md\r\n",
      "2019-01-01-benders-decomposition-for-very-large-scale-partial-set-covering-and-maximal-covering-problems.md\r\n",
      "2019-01-01-exact-approaches-for-network-design-problems-with-relays.md\r\n",
      "2019-01-01-exact-approaches-for-the-directed-network-design-problem-with-relays.md\r\n",
      "2019-01-01-interdiction-games-and-monotonicity,-with-application-to-knapsack-problems.md\r\n",
      "2019-01-01-the-incremental-connected-facility-location-problem.md\r\n",
      "2019-01-01-the-maximum-clique-interdiction-problem.md\r\n",
      "2019-01-01-tighter-mip-formulations-for-barge-container-ship-routing.md\r\n",
      "2020-01-01-a-polyhedral-study-of-the-diameter-constrained-minimum-spanning-tree-problem.md\r\n",
      "2020-01-01-location-of-charging-stations-in-electric-car-sharing-systems.md\r\n",
      "2020-01-01-on-integer-and-bilevel-formulations-for-the-k-vertex-cut-problem.md\r\n",
      "2020-01-01-preface:-decomposition-methods-for-hard-optimization-problems.md\r\n",
      "2021-01-01-a-branch-and-cut-algorithm-for-the-edge-interdiction-clique-problem.md\r\n",
      "2021-01-01-an-exact-method-for-assortment-optimization-under-the-nested-logit-model.md\r\n",
      "2021-01-01-benders-decomposition-for-a-node-capacitated-virtual-network-functions-placement-and-routing-problem.md\r\n",
      "2021-01-01-casting-light-on-the-hidden-bilevel-combinatorial-structure-of-the-capacitated-vertex-separator-problem.md\r\n",
      "2021-01-01-solving-steiner-trees---recent-advances,-challenges-and-perspectives.md\r\n",
      "2021-01-01-survey-on-mixed-integer-programming-techniques-in-bilevel-optimization.md\r\n",
      "2021-01-01-the-generalized-reserve-set-covering-problem-with-connectivity-and-buffer-requirements.md\r\n",
      "2022-01-01-a-tailored-benders-decomposition-approach-for-last-mile-delivery-with-autonomous-robots.md\r\n",
      "2022-01-01-budgeting-in-international-humanitarian-organizations.md\r\n",
      "2022-01-01-comparison-of-formulations-for-the-inventory-routing-problem.md\r\n",
      "2022-02-01-arc-routing-with-electric-vehicles:-dynamic-charging-and-speed-dependent-energy-consumption.md\r\n"
     ]
    }
   ],
   "source": [
    "!ls ../_publications/"
   ]
  },
  {
   "cell_type": "code",
   "execution_count": 23,
   "metadata": {},
   "outputs": [
    {
     "name": "stdout",
     "output_type": "stream",
     "text": [
      "---\r\n",
      "title: \"Comparison of Formulations for the Inventory Routing Problem\"\r\n",
      "collection: publications\r\n",
      "author: 'C. Archetti, I. Ljubic'\r\n",
      "permalink: /publication/2022-01-01-comparison-of-formulations-for-the-inventory-routing-problem\r\n",
      "date: 2022-01-01\r\n",
      "venue: 'European Journal of Operational Research'\r\n",
      "paperurl: 'https://www.sciencedirect.com/science/article/pii/S0377221721011073'\r\n",
      "---\r\n",
      "[View paper here](https://www.sciencedirect.com/science/article/pii/S0377221721011073)\r\n",
      "\r\n",
      "[Download paper here](https://github.com/RISHIKESHAVAN/prof-ivana-site/blob/master/docs/publications/IRP.pdf)\r\n"
     ]
    }
   ],
   "source": [
    "!cat ../_publications/2022-01-01-comparison-of-formulations-for-the-inventory-routing-problem.md"
   ]
  },
  {
   "cell_type": "code",
   "execution_count": null,
   "metadata": {
    "collapsed": true
   },
   "outputs": [],
   "source": []
  }
 ],
 "metadata": {
  "kernelspec": {
   "display_name": "Python 3 (ipykernel)",
   "language": "python",
   "name": "python3"
  },
  "language_info": {
   "codemirror_mode": {
    "name": "ipython",
    "version": 3
   },
   "file_extension": ".py",
   "mimetype": "text/x-python",
   "name": "python",
   "nbconvert_exporter": "python",
   "pygments_lexer": "ipython3",
   "version": "3.8.8"
  }
 },
 "nbformat": 4,
 "nbformat_minor": 1
}
